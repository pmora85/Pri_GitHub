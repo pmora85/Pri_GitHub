{
 "cells": [
  {
   "cell_type": "code",
   "execution_count": 1,
   "metadata": {},
   "outputs": [],
   "source": [
    "#Import modules\n",
    "import warnings\n",
    "warnings.filterwarnings(\"ignore\", category=UserWarning) \n",
    "import pandas as pd\n",
    "import matplotlib.pyplot as plt\n",
    "import numpy as np\n",
    "import pandas as pd\n",
    "from pandas import Series, DataFrame\n",
    "import matplotlib as mpl\n",
    "import matplotlib.pyplot as plt\n",
    "import seaborn as sns \n",
    "%matplotlib inline"
   ]
  },
  {
   "cell_type": "code",
   "execution_count": 2,
   "metadata": {},
   "outputs": [],
   "source": [
    "#Create the dataset with the default of credit card clients\n",
    "credit = pd.read_csv(r'C:\\CreditOne\\default of credit card clients.csv')"
   ]
  },
  {
   "cell_type": "code",
   "execution_count": 3,
   "metadata": {},
   "outputs": [
    {
     "data": {
      "text/html": [
       "<div>\n",
       "<style scoped>\n",
       "    .dataframe tbody tr th:only-of-type {\n",
       "        vertical-align: middle;\n",
       "    }\n",
       "\n",
       "    .dataframe tbody tr th {\n",
       "        vertical-align: top;\n",
       "    }\n",
       "\n",
       "    .dataframe thead th {\n",
       "        text-align: right;\n",
       "    }\n",
       "</style>\n",
       "<table border=\"1\" class=\"dataframe\">\n",
       "  <thead>\n",
       "    <tr style=\"text-align: right;\">\n",
       "      <th></th>\n",
       "      <th>ID</th>\n",
       "      <th>LIMIT_BAL</th>\n",
       "      <th>GENDER</th>\n",
       "      <th>EDUCATION</th>\n",
       "      <th>MARRIAGE</th>\n",
       "      <th>AGE</th>\n",
       "      <th>PAY_0</th>\n",
       "      <th>PAY_2</th>\n",
       "      <th>PAY_3</th>\n",
       "      <th>PAY_4</th>\n",
       "      <th>...</th>\n",
       "      <th>BILL_AMT4</th>\n",
       "      <th>BILL_AMT5</th>\n",
       "      <th>BILL_AMT6</th>\n",
       "      <th>PAY_AMT1</th>\n",
       "      <th>PAY_AMT2</th>\n",
       "      <th>PAY_AMT3</th>\n",
       "      <th>PAY_AMT4</th>\n",
       "      <th>PAY_AMT5</th>\n",
       "      <th>PAY_AMT6</th>\n",
       "      <th>DEF_PAY</th>\n",
       "    </tr>\n",
       "  </thead>\n",
       "  <tbody>\n",
       "    <tr>\n",
       "      <th>0</th>\n",
       "      <td>1</td>\n",
       "      <td>20000</td>\n",
       "      <td>2</td>\n",
       "      <td>2</td>\n",
       "      <td>1</td>\n",
       "      <td>24</td>\n",
       "      <td>2</td>\n",
       "      <td>2</td>\n",
       "      <td>-1</td>\n",
       "      <td>-1</td>\n",
       "      <td>...</td>\n",
       "      <td>0</td>\n",
       "      <td>0</td>\n",
       "      <td>0</td>\n",
       "      <td>0</td>\n",
       "      <td>689</td>\n",
       "      <td>0</td>\n",
       "      <td>0</td>\n",
       "      <td>0</td>\n",
       "      <td>0</td>\n",
       "      <td>1</td>\n",
       "    </tr>\n",
       "    <tr>\n",
       "      <th>1</th>\n",
       "      <td>2</td>\n",
       "      <td>120000</td>\n",
       "      <td>2</td>\n",
       "      <td>2</td>\n",
       "      <td>2</td>\n",
       "      <td>26</td>\n",
       "      <td>-1</td>\n",
       "      <td>2</td>\n",
       "      <td>0</td>\n",
       "      <td>0</td>\n",
       "      <td>...</td>\n",
       "      <td>3272</td>\n",
       "      <td>3455</td>\n",
       "      <td>3261</td>\n",
       "      <td>0</td>\n",
       "      <td>1000</td>\n",
       "      <td>1000</td>\n",
       "      <td>1000</td>\n",
       "      <td>0</td>\n",
       "      <td>2000</td>\n",
       "      <td>1</td>\n",
       "    </tr>\n",
       "    <tr>\n",
       "      <th>2</th>\n",
       "      <td>3</td>\n",
       "      <td>90000</td>\n",
       "      <td>2</td>\n",
       "      <td>2</td>\n",
       "      <td>2</td>\n",
       "      <td>34</td>\n",
       "      <td>0</td>\n",
       "      <td>0</td>\n",
       "      <td>0</td>\n",
       "      <td>0</td>\n",
       "      <td>...</td>\n",
       "      <td>14331</td>\n",
       "      <td>14948</td>\n",
       "      <td>15549</td>\n",
       "      <td>1518</td>\n",
       "      <td>1500</td>\n",
       "      <td>1000</td>\n",
       "      <td>1000</td>\n",
       "      <td>1000</td>\n",
       "      <td>5000</td>\n",
       "      <td>0</td>\n",
       "    </tr>\n",
       "    <tr>\n",
       "      <th>3</th>\n",
       "      <td>4</td>\n",
       "      <td>50000</td>\n",
       "      <td>2</td>\n",
       "      <td>2</td>\n",
       "      <td>1</td>\n",
       "      <td>37</td>\n",
       "      <td>0</td>\n",
       "      <td>0</td>\n",
       "      <td>0</td>\n",
       "      <td>0</td>\n",
       "      <td>...</td>\n",
       "      <td>28314</td>\n",
       "      <td>28959</td>\n",
       "      <td>29547</td>\n",
       "      <td>2000</td>\n",
       "      <td>2019</td>\n",
       "      <td>1200</td>\n",
       "      <td>1100</td>\n",
       "      <td>1069</td>\n",
       "      <td>1000</td>\n",
       "      <td>0</td>\n",
       "    </tr>\n",
       "    <tr>\n",
       "      <th>4</th>\n",
       "      <td>5</td>\n",
       "      <td>50000</td>\n",
       "      <td>1</td>\n",
       "      <td>2</td>\n",
       "      <td>1</td>\n",
       "      <td>57</td>\n",
       "      <td>-1</td>\n",
       "      <td>0</td>\n",
       "      <td>-1</td>\n",
       "      <td>0</td>\n",
       "      <td>...</td>\n",
       "      <td>20940</td>\n",
       "      <td>19146</td>\n",
       "      <td>19131</td>\n",
       "      <td>2000</td>\n",
       "      <td>36681</td>\n",
       "      <td>10000</td>\n",
       "      <td>9000</td>\n",
       "      <td>689</td>\n",
       "      <td>679</td>\n",
       "      <td>0</td>\n",
       "    </tr>\n",
       "  </tbody>\n",
       "</table>\n",
       "<p>5 rows × 25 columns</p>\n",
       "</div>"
      ],
      "text/plain": [
       "   ID  LIMIT_BAL  GENDER  EDUCATION  MARRIAGE  AGE  PAY_0  PAY_2  PAY_3  \\\n",
       "0   1      20000       2          2         1   24      2      2     -1   \n",
       "1   2     120000       2          2         2   26     -1      2      0   \n",
       "2   3      90000       2          2         2   34      0      0      0   \n",
       "3   4      50000       2          2         1   37      0      0      0   \n",
       "4   5      50000       1          2         1   57     -1      0     -1   \n",
       "\n",
       "   PAY_4  ...  BILL_AMT4  BILL_AMT5  BILL_AMT6  PAY_AMT1  PAY_AMT2  PAY_AMT3  \\\n",
       "0     -1  ...          0          0          0         0       689         0   \n",
       "1      0  ...       3272       3455       3261         0      1000      1000   \n",
       "2      0  ...      14331      14948      15549      1518      1500      1000   \n",
       "3      0  ...      28314      28959      29547      2000      2019      1200   \n",
       "4      0  ...      20940      19146      19131      2000     36681     10000   \n",
       "\n",
       "   PAY_AMT4  PAY_AMT5  PAY_AMT6  DEF_PAY  \n",
       "0         0         0         0        1  \n",
       "1      1000         0      2000        1  \n",
       "2      1000      1000      5000        0  \n",
       "3      1100      1069      1000        0  \n",
       "4      9000       689       679        0  \n",
       "\n",
       "[5 rows x 25 columns]"
      ]
     },
     "execution_count": 3,
     "metadata": {},
     "output_type": "execute_result"
    }
   ],
   "source": [
    "#Visualize the head of the dataset\n",
    "credit.head()"
   ]
  },
  {
   "cell_type": "code",
   "execution_count": 4,
   "metadata": {
    "scrolled": false
   },
   "outputs": [
    {
     "data": {
      "text/html": [
       "<div>\n",
       "<style scoped>\n",
       "    .dataframe tbody tr th:only-of-type {\n",
       "        vertical-align: middle;\n",
       "    }\n",
       "\n",
       "    .dataframe tbody tr th {\n",
       "        vertical-align: top;\n",
       "    }\n",
       "\n",
       "    .dataframe thead th {\n",
       "        text-align: right;\n",
       "    }\n",
       "</style>\n",
       "<table border=\"1\" class=\"dataframe\">\n",
       "  <thead>\n",
       "    <tr style=\"text-align: right;\">\n",
       "      <th></th>\n",
       "      <th>ID</th>\n",
       "      <th>LIMIT_BAL</th>\n",
       "      <th>GENDER</th>\n",
       "      <th>EDUCATION</th>\n",
       "      <th>MARRIAGE</th>\n",
       "      <th>AGE</th>\n",
       "      <th>PAY_0</th>\n",
       "      <th>PAY_2</th>\n",
       "      <th>PAY_3</th>\n",
       "      <th>PAY_4</th>\n",
       "      <th>...</th>\n",
       "      <th>BILL_AMT4</th>\n",
       "      <th>BILL_AMT5</th>\n",
       "      <th>BILL_AMT6</th>\n",
       "      <th>PAY_AMT1</th>\n",
       "      <th>PAY_AMT2</th>\n",
       "      <th>PAY_AMT3</th>\n",
       "      <th>PAY_AMT4</th>\n",
       "      <th>PAY_AMT5</th>\n",
       "      <th>PAY_AMT6</th>\n",
       "      <th>DEF_PAY</th>\n",
       "    </tr>\n",
       "  </thead>\n",
       "  <tbody>\n",
       "    <tr>\n",
       "      <th>count</th>\n",
       "      <td>30000.000000</td>\n",
       "      <td>30000.000000</td>\n",
       "      <td>30000.000000</td>\n",
       "      <td>30000.000000</td>\n",
       "      <td>30000.000000</td>\n",
       "      <td>30000.000000</td>\n",
       "      <td>30000.000000</td>\n",
       "      <td>30000.000000</td>\n",
       "      <td>30000.000000</td>\n",
       "      <td>30000.000000</td>\n",
       "      <td>...</td>\n",
       "      <td>30000.000000</td>\n",
       "      <td>30000.000000</td>\n",
       "      <td>30000.000000</td>\n",
       "      <td>30000.000000</td>\n",
       "      <td>3.000000e+04</td>\n",
       "      <td>30000.00000</td>\n",
       "      <td>30000.000000</td>\n",
       "      <td>30000.000000</td>\n",
       "      <td>30000.000000</td>\n",
       "      <td>30000.000000</td>\n",
       "    </tr>\n",
       "    <tr>\n",
       "      <th>mean</th>\n",
       "      <td>15000.500000</td>\n",
       "      <td>167484.322667</td>\n",
       "      <td>1.603733</td>\n",
       "      <td>1.853133</td>\n",
       "      <td>1.551867</td>\n",
       "      <td>35.485500</td>\n",
       "      <td>-0.016700</td>\n",
       "      <td>-0.133767</td>\n",
       "      <td>-0.166200</td>\n",
       "      <td>-0.220667</td>\n",
       "      <td>...</td>\n",
       "      <td>43262.948967</td>\n",
       "      <td>40311.400967</td>\n",
       "      <td>38871.760400</td>\n",
       "      <td>5663.580500</td>\n",
       "      <td>5.921163e+03</td>\n",
       "      <td>5225.68150</td>\n",
       "      <td>4826.076867</td>\n",
       "      <td>4799.387633</td>\n",
       "      <td>5215.502567</td>\n",
       "      <td>0.221200</td>\n",
       "    </tr>\n",
       "    <tr>\n",
       "      <th>std</th>\n",
       "      <td>8660.398374</td>\n",
       "      <td>129747.661567</td>\n",
       "      <td>0.489129</td>\n",
       "      <td>0.790349</td>\n",
       "      <td>0.521970</td>\n",
       "      <td>9.217904</td>\n",
       "      <td>1.123802</td>\n",
       "      <td>1.197186</td>\n",
       "      <td>1.196868</td>\n",
       "      <td>1.169139</td>\n",
       "      <td>...</td>\n",
       "      <td>64332.856134</td>\n",
       "      <td>60797.155770</td>\n",
       "      <td>59554.107537</td>\n",
       "      <td>16563.280354</td>\n",
       "      <td>2.304087e+04</td>\n",
       "      <td>17606.96147</td>\n",
       "      <td>15666.159744</td>\n",
       "      <td>15278.305679</td>\n",
       "      <td>17777.465775</td>\n",
       "      <td>0.415062</td>\n",
       "    </tr>\n",
       "    <tr>\n",
       "      <th>min</th>\n",
       "      <td>1.000000</td>\n",
       "      <td>10000.000000</td>\n",
       "      <td>1.000000</td>\n",
       "      <td>0.000000</td>\n",
       "      <td>0.000000</td>\n",
       "      <td>21.000000</td>\n",
       "      <td>-2.000000</td>\n",
       "      <td>-2.000000</td>\n",
       "      <td>-2.000000</td>\n",
       "      <td>-2.000000</td>\n",
       "      <td>...</td>\n",
       "      <td>-170000.000000</td>\n",
       "      <td>-81334.000000</td>\n",
       "      <td>-339603.000000</td>\n",
       "      <td>0.000000</td>\n",
       "      <td>0.000000e+00</td>\n",
       "      <td>0.00000</td>\n",
       "      <td>0.000000</td>\n",
       "      <td>0.000000</td>\n",
       "      <td>0.000000</td>\n",
       "      <td>0.000000</td>\n",
       "    </tr>\n",
       "    <tr>\n",
       "      <th>25%</th>\n",
       "      <td>7500.750000</td>\n",
       "      <td>50000.000000</td>\n",
       "      <td>1.000000</td>\n",
       "      <td>1.000000</td>\n",
       "      <td>1.000000</td>\n",
       "      <td>28.000000</td>\n",
       "      <td>-1.000000</td>\n",
       "      <td>-1.000000</td>\n",
       "      <td>-1.000000</td>\n",
       "      <td>-1.000000</td>\n",
       "      <td>...</td>\n",
       "      <td>2326.750000</td>\n",
       "      <td>1763.000000</td>\n",
       "      <td>1256.000000</td>\n",
       "      <td>1000.000000</td>\n",
       "      <td>8.330000e+02</td>\n",
       "      <td>390.00000</td>\n",
       "      <td>296.000000</td>\n",
       "      <td>252.500000</td>\n",
       "      <td>117.750000</td>\n",
       "      <td>0.000000</td>\n",
       "    </tr>\n",
       "    <tr>\n",
       "      <th>50%</th>\n",
       "      <td>15000.500000</td>\n",
       "      <td>140000.000000</td>\n",
       "      <td>2.000000</td>\n",
       "      <td>2.000000</td>\n",
       "      <td>2.000000</td>\n",
       "      <td>34.000000</td>\n",
       "      <td>0.000000</td>\n",
       "      <td>0.000000</td>\n",
       "      <td>0.000000</td>\n",
       "      <td>0.000000</td>\n",
       "      <td>...</td>\n",
       "      <td>19052.000000</td>\n",
       "      <td>18104.500000</td>\n",
       "      <td>17071.000000</td>\n",
       "      <td>2100.000000</td>\n",
       "      <td>2.009000e+03</td>\n",
       "      <td>1800.00000</td>\n",
       "      <td>1500.000000</td>\n",
       "      <td>1500.000000</td>\n",
       "      <td>1500.000000</td>\n",
       "      <td>0.000000</td>\n",
       "    </tr>\n",
       "    <tr>\n",
       "      <th>75%</th>\n",
       "      <td>22500.250000</td>\n",
       "      <td>240000.000000</td>\n",
       "      <td>2.000000</td>\n",
       "      <td>2.000000</td>\n",
       "      <td>2.000000</td>\n",
       "      <td>41.000000</td>\n",
       "      <td>0.000000</td>\n",
       "      <td>0.000000</td>\n",
       "      <td>0.000000</td>\n",
       "      <td>0.000000</td>\n",
       "      <td>...</td>\n",
       "      <td>54506.000000</td>\n",
       "      <td>50190.500000</td>\n",
       "      <td>49198.250000</td>\n",
       "      <td>5006.000000</td>\n",
       "      <td>5.000000e+03</td>\n",
       "      <td>4505.00000</td>\n",
       "      <td>4013.250000</td>\n",
       "      <td>4031.500000</td>\n",
       "      <td>4000.000000</td>\n",
       "      <td>0.000000</td>\n",
       "    </tr>\n",
       "    <tr>\n",
       "      <th>max</th>\n",
       "      <td>30000.000000</td>\n",
       "      <td>1000000.000000</td>\n",
       "      <td>2.000000</td>\n",
       "      <td>6.000000</td>\n",
       "      <td>3.000000</td>\n",
       "      <td>79.000000</td>\n",
       "      <td>8.000000</td>\n",
       "      <td>8.000000</td>\n",
       "      <td>8.000000</td>\n",
       "      <td>8.000000</td>\n",
       "      <td>...</td>\n",
       "      <td>891586.000000</td>\n",
       "      <td>927171.000000</td>\n",
       "      <td>961664.000000</td>\n",
       "      <td>873552.000000</td>\n",
       "      <td>1.684259e+06</td>\n",
       "      <td>896040.00000</td>\n",
       "      <td>621000.000000</td>\n",
       "      <td>426529.000000</td>\n",
       "      <td>528666.000000</td>\n",
       "      <td>1.000000</td>\n",
       "    </tr>\n",
       "  </tbody>\n",
       "</table>\n",
       "<p>8 rows × 25 columns</p>\n",
       "</div>"
      ],
      "text/plain": [
       "                 ID       LIMIT_BAL        GENDER     EDUCATION      MARRIAGE  \\\n",
       "count  30000.000000    30000.000000  30000.000000  30000.000000  30000.000000   \n",
       "mean   15000.500000   167484.322667      1.603733      1.853133      1.551867   \n",
       "std     8660.398374   129747.661567      0.489129      0.790349      0.521970   \n",
       "min        1.000000    10000.000000      1.000000      0.000000      0.000000   \n",
       "25%     7500.750000    50000.000000      1.000000      1.000000      1.000000   \n",
       "50%    15000.500000   140000.000000      2.000000      2.000000      2.000000   \n",
       "75%    22500.250000   240000.000000      2.000000      2.000000      2.000000   \n",
       "max    30000.000000  1000000.000000      2.000000      6.000000      3.000000   \n",
       "\n",
       "                AGE         PAY_0         PAY_2         PAY_3         PAY_4  \\\n",
       "count  30000.000000  30000.000000  30000.000000  30000.000000  30000.000000   \n",
       "mean      35.485500     -0.016700     -0.133767     -0.166200     -0.220667   \n",
       "std        9.217904      1.123802      1.197186      1.196868      1.169139   \n",
       "min       21.000000     -2.000000     -2.000000     -2.000000     -2.000000   \n",
       "25%       28.000000     -1.000000     -1.000000     -1.000000     -1.000000   \n",
       "50%       34.000000      0.000000      0.000000      0.000000      0.000000   \n",
       "75%       41.000000      0.000000      0.000000      0.000000      0.000000   \n",
       "max       79.000000      8.000000      8.000000      8.000000      8.000000   \n",
       "\n",
       "       ...      BILL_AMT4      BILL_AMT5      BILL_AMT6       PAY_AMT1  \\\n",
       "count  ...   30000.000000   30000.000000   30000.000000   30000.000000   \n",
       "mean   ...   43262.948967   40311.400967   38871.760400    5663.580500   \n",
       "std    ...   64332.856134   60797.155770   59554.107537   16563.280354   \n",
       "min    ... -170000.000000  -81334.000000 -339603.000000       0.000000   \n",
       "25%    ...    2326.750000    1763.000000    1256.000000    1000.000000   \n",
       "50%    ...   19052.000000   18104.500000   17071.000000    2100.000000   \n",
       "75%    ...   54506.000000   50190.500000   49198.250000    5006.000000   \n",
       "max    ...  891586.000000  927171.000000  961664.000000  873552.000000   \n",
       "\n",
       "           PAY_AMT2      PAY_AMT3       PAY_AMT4       PAY_AMT5  \\\n",
       "count  3.000000e+04   30000.00000   30000.000000   30000.000000   \n",
       "mean   5.921163e+03    5225.68150    4826.076867    4799.387633   \n",
       "std    2.304087e+04   17606.96147   15666.159744   15278.305679   \n",
       "min    0.000000e+00       0.00000       0.000000       0.000000   \n",
       "25%    8.330000e+02     390.00000     296.000000     252.500000   \n",
       "50%    2.009000e+03    1800.00000    1500.000000    1500.000000   \n",
       "75%    5.000000e+03    4505.00000    4013.250000    4031.500000   \n",
       "max    1.684259e+06  896040.00000  621000.000000  426529.000000   \n",
       "\n",
       "            PAY_AMT6       DEF_PAY  \n",
       "count   30000.000000  30000.000000  \n",
       "mean     5215.502567      0.221200  \n",
       "std     17777.465775      0.415062  \n",
       "min         0.000000      0.000000  \n",
       "25%       117.750000      0.000000  \n",
       "50%      1500.000000      0.000000  \n",
       "75%      4000.000000      0.000000  \n",
       "max    528666.000000      1.000000  \n",
       "\n",
       "[8 rows x 25 columns]"
      ]
     },
     "execution_count": 4,
     "metadata": {},
     "output_type": "execute_result"
    }
   ],
   "source": [
    "#Describe the data set with its fields\n",
    "credit.describe()"
   ]
  },
  {
   "cell_type": "code",
   "execution_count": 5,
   "metadata": {},
   "outputs": [
    {
     "name": "stdout",
     "output_type": "stream",
     "text": [
      "<class 'pandas.core.frame.DataFrame'>\n",
      "RangeIndex: 30000 entries, 0 to 29999\n",
      "Data columns (total 25 columns):\n",
      " #   Column     Non-Null Count  Dtype\n",
      "---  ------     --------------  -----\n",
      " 0   ID         30000 non-null  int64\n",
      " 1   LIMIT_BAL  30000 non-null  int64\n",
      " 2   GENDER     30000 non-null  int64\n",
      " 3   EDUCATION  30000 non-null  int64\n",
      " 4   MARRIAGE   30000 non-null  int64\n",
      " 5   AGE        30000 non-null  int64\n",
      " 6   PAY_0      30000 non-null  int64\n",
      " 7   PAY_2      30000 non-null  int64\n",
      " 8   PAY_3      30000 non-null  int64\n",
      " 9   PAY_4      30000 non-null  int64\n",
      " 10  PAY_5      30000 non-null  int64\n",
      " 11  PAY_6      30000 non-null  int64\n",
      " 12  BILL_AMT1  30000 non-null  int64\n",
      " 13  BILL_AMT2  30000 non-null  int64\n",
      " 14  BILL_AMT3  30000 non-null  int64\n",
      " 15  BILL_AMT4  30000 non-null  int64\n",
      " 16  BILL_AMT5  30000 non-null  int64\n",
      " 17  BILL_AMT6  30000 non-null  int64\n",
      " 18  PAY_AMT1   30000 non-null  int64\n",
      " 19  PAY_AMT2   30000 non-null  int64\n",
      " 20  PAY_AMT3   30000 non-null  int64\n",
      " 21  PAY_AMT4   30000 non-null  int64\n",
      " 22  PAY_AMT5   30000 non-null  int64\n",
      " 23  PAY_AMT6   30000 non-null  int64\n",
      " 24  DEF_PAY    30000 non-null  int64\n",
      "dtypes: int64(25)\n",
      "memory usage: 5.7 MB\n"
     ]
    }
   ],
   "source": [
    "# Information about the observations.\n",
    "credit.info()"
   ]
  },
  {
   "cell_type": "code",
   "execution_count": 6,
   "metadata": {},
   "outputs": [],
   "source": [
    "# Data Preparation\n",
    "#Remove the ID column\n",
    "credit.drop(credit.columns[0], axis='columns', inplace=True)"
   ]
  },
  {
   "cell_type": "code",
   "execution_count": 7,
   "metadata": {},
   "outputs": [],
   "source": [
    "#Remove outliers\n",
    "credit = credit.drop(credit[credit.LIMIT_BAL >= 1000000].index)"
   ]
  },
  {
   "cell_type": "code",
   "execution_count": 8,
   "metadata": {},
   "outputs": [],
   "source": [
    "#Create new column for age range and setting the variables as categorical\n",
    "bins = [20, 30, 40, 50, 60, 70, 80]\n",
    "labels = ['20-29', '30-39', '40-49', '50-59', '60-69', '70+']\n",
    "credit['AGE_RANGE'] = pd.cut(credit.AGE, bins, labels = labels,include_lowest = True)\n",
    "credit['AGE_RANGE'] = credit['AGE_RANGE'].astype('category')"
   ]
  },
  {
   "cell_type": "code",
   "execution_count": 9,
   "metadata": {},
   "outputs": [],
   "source": [
    "# Define a function called SwitchEducation with 7 variables to lookup the id of the education\n",
    "def SwitchEducation(argument):\n",
    "    switcher = {\n",
    "        1: \"Graduate School\",\n",
    "        2: \"University\",\n",
    "        3: \"High School\",\n",
    "        4: \"Other\",\n",
    "        5: \"Other\",\n",
    "        6: \"Other\",\n",
    "        0: \"Other\",\n",
    "    }\n",
    "    return switcher.get(argument, \"Nothing\")"
   ]
  },
  {
   "cell_type": "code",
   "execution_count": 10,
   "metadata": {},
   "outputs": [],
   "source": [
    "# Define a function called SwitchEducation with 2 variables to lookup the id of the gender\n",
    "\n",
    "def SwitchGender(argument):\n",
    "    switcher = {\n",
    "        1: \"Male\",\n",
    "        2: \"Female\",\n",
    "    }\n",
    "    return switcher.get(argument, \"nothing\")"
   ]
  },
  {
   "cell_type": "code",
   "execution_count": 11,
   "metadata": {},
   "outputs": [],
   "source": [
    "# Define a function called SwitchEducation with 4 variables to lookup the id of the Marriage Status\n",
    "\n",
    "def SwitchMarital(argument):\n",
    "    switcher = {\n",
    "        1: \"Married\",\n",
    "        2: \"Single\",\n",
    "        3: \"Divorce\",\n",
    "        4: \"Other\",\n",
    "    }\n",
    "    return switcher.get(argument, \"nothing\")"
   ]
  },
  {
   "cell_type": "code",
   "execution_count": 12,
   "metadata": {},
   "outputs": [],
   "source": [
    "# Create the dictionary \n",
    "sex_dictionary ={1 : 'Male', 2 : 'Female'} "
   ]
  },
  {
   "cell_type": "code",
   "execution_count": 13,
   "metadata": {},
   "outputs": [],
   "source": [
    "# Create a new field to backup the gender status id.\n",
    "credit['GENDER2'] = credit['GENDER'].map(sex_dictionary) "
   ]
  },
  {
   "cell_type": "code",
   "execution_count": 14,
   "metadata": {},
   "outputs": [],
   "source": [
    "# Create a Dicionary to manage the Marriage ID´s\n",
    "Marital_dictionary ={1 : 'Married', 2 : 'Single' , 3: 'Divorce' , 0: 'Other'} "
   ]
  },
  {
   "cell_type": "code",
   "execution_count": 15,
   "metadata": {},
   "outputs": [],
   "source": [
    "# Create a new field to backup the Marriage status id.\n",
    "credit['MARRIAGE2'] = credit['MARRIAGE'].map(Marital_dictionary)"
   ]
  },
  {
   "cell_type": "code",
   "execution_count": 16,
   "metadata": {},
   "outputs": [],
   "source": [
    "# Create a Dicionary to manage the Education ID´s\n",
    "Education_dictionary ={1 : 'Graduate School', 2 : 'University' , 3: 'High School' , 4: 'Other', 5: 'Other', 6: 'Other', 0: 'Other'} "
   ]
  },
  {
   "cell_type": "code",
   "execution_count": 17,
   "metadata": {},
   "outputs": [],
   "source": [
    "# Create a new field to backup the Marriage education id.\n",
    "credit['EDUCATION2'] = credit['EDUCATION'].map(Education_dictionary) "
   ]
  },
  {
   "cell_type": "code",
   "execution_count": 18,
   "metadata": {},
   "outputs": [],
   "source": [
    "# Create a Dicionary to manage the Default Payment ID´s\n",
    "Def_Pay_dictionary   = {1: 'Default', 0 : 'No Default'}\n"
   ]
  },
  {
   "cell_type": "code",
   "execution_count": 19,
   "metadata": {},
   "outputs": [],
   "source": [
    "# Create a new field to backup the default Payment Next Month 2 status id.\n",
    "credit['DEF_PAY 2'] = credit['DEF_PAY'].map(Def_Pay_dictionary)"
   ]
  },
  {
   "cell_type": "code",
   "execution_count": 20,
   "metadata": {},
   "outputs": [
    {
     "name": "stdout",
     "output_type": "stream",
     "text": [
      "       LIMIT_BAL  GENDER  EDUCATION  MARRIAGE  AGE  PAY_0  PAY_2  PAY_3  \\\n",
      "0          20000       2          2         1   24      2      2     -1   \n",
      "1         120000       2          2         2   26     -1      2      0   \n",
      "2          90000       2          2         2   34      0      0      0   \n",
      "3          50000       2          2         1   37      0      0      0   \n",
      "4          50000       1          2         1   57     -1      0     -1   \n",
      "...          ...     ...        ...       ...  ...    ...    ...    ...   \n",
      "29995     220000       1          3         1   39      0      0      0   \n",
      "29996     150000       1          3         2   43     -1     -1     -1   \n",
      "29997      30000       1          2         2   37      4      3      2   \n",
      "29998      80000       1          3         1   41      1     -1      0   \n",
      "29999      50000       1          2         1   46      0      0      0   \n",
      "\n",
      "       PAY_4  PAY_5  ...  PAY_AMT3  PAY_AMT4  PAY_AMT5  PAY_AMT6  DEF_PAY  \\\n",
      "0         -1     -2  ...         0         0         0         0        1   \n",
      "1          0      0  ...      1000      1000         0      2000        1   \n",
      "2          0      0  ...      1000      1000      1000      5000        0   \n",
      "3          0      0  ...      1200      1100      1069      1000        0   \n",
      "4          0      0  ...     10000      9000       689       679        0   \n",
      "...      ...    ...  ...       ...       ...       ...       ...      ...   \n",
      "29995      0      0  ...      5003      3047      5000      1000        0   \n",
      "29996     -1      0  ...      8998       129         0         0        0   \n",
      "29997     -1      0  ...     22000      4200      2000      3100        1   \n",
      "29998      0      0  ...      1178      1926     52964      1804        1   \n",
      "29999      0      0  ...      1430      1000      1000      1000        1   \n",
      "\n",
      "       AGE_RANGE  GENDER2  MARRIAGE2   EDUCATION2   DEF_PAY 2  \n",
      "0          20-29   Female    Married   University     Default  \n",
      "1          20-29   Female     Single   University     Default  \n",
      "2          30-39   Female     Single   University  No Default  \n",
      "3          30-39   Female    Married   University  No Default  \n",
      "4          50-59     Male    Married   University  No Default  \n",
      "...          ...      ...        ...          ...         ...  \n",
      "29995      30-39     Male    Married  High School  No Default  \n",
      "29996      40-49     Male     Single  High School  No Default  \n",
      "29997      30-39     Male     Single   University     Default  \n",
      "29998      40-49     Male    Married  High School     Default  \n",
      "29999      40-49     Male    Married   University     Default  \n",
      "\n",
      "[29999 rows x 29 columns]\n"
     ]
    }
   ],
   "source": [
    "#Print the values\n",
    "print (credit)"
   ]
  },
  {
   "cell_type": "code",
   "execution_count": 21,
   "metadata": {},
   "outputs": [],
   "source": [
    "# Print the dataset in the .csv\n",
    "credit.to_csv(r'C:\\CreditOne\\Default_Credit_Card_Clients_New.csv')"
   ]
  },
  {
   "cell_type": "code",
   "execution_count": 22,
   "metadata": {},
   "outputs": [],
   "source": [
    "# BackUp the DataSet\n",
    "credit2 = credit"
   ]
  },
  {
   "cell_type": "code",
   "execution_count": 23,
   "metadata": {},
   "outputs": [
    {
     "name": "stdout",
     "output_type": "stream",
     "text": [
      "<class 'pandas.core.frame.DataFrame'>\n",
      "Int64Index: 29999 entries, 0 to 29999\n",
      "Data columns (total 29 columns):\n",
      " #   Column      Non-Null Count  Dtype   \n",
      "---  ------      --------------  -----   \n",
      " 0   LIMIT_BAL   29999 non-null  int64   \n",
      " 1   GENDER      29999 non-null  int64   \n",
      " 2   EDUCATION   29999 non-null  int64   \n",
      " 3   MARRIAGE    29999 non-null  int64   \n",
      " 4   AGE         29999 non-null  int64   \n",
      " 5   PAY_0       29999 non-null  int64   \n",
      " 6   PAY_2       29999 non-null  int64   \n",
      " 7   PAY_3       29999 non-null  int64   \n",
      " 8   PAY_4       29999 non-null  int64   \n",
      " 9   PAY_5       29999 non-null  int64   \n",
      " 10  PAY_6       29999 non-null  int64   \n",
      " 11  BILL_AMT1   29999 non-null  int64   \n",
      " 12  BILL_AMT2   29999 non-null  int64   \n",
      " 13  BILL_AMT3   29999 non-null  int64   \n",
      " 14  BILL_AMT4   29999 non-null  int64   \n",
      " 15  BILL_AMT5   29999 non-null  int64   \n",
      " 16  BILL_AMT6   29999 non-null  int64   \n",
      " 17  PAY_AMT1    29999 non-null  int64   \n",
      " 18  PAY_AMT2    29999 non-null  int64   \n",
      " 19  PAY_AMT3    29999 non-null  int64   \n",
      " 20  PAY_AMT4    29999 non-null  int64   \n",
      " 21  PAY_AMT5    29999 non-null  int64   \n",
      " 22  PAY_AMT6    29999 non-null  int64   \n",
      " 23  DEF_PAY     29999 non-null  int64   \n",
      " 24  AGE_RANGE   29999 non-null  category\n",
      " 25  GENDER2     29999 non-null  object  \n",
      " 26  MARRIAGE2   29999 non-null  object  \n",
      " 27  EDUCATION2  29999 non-null  object  \n",
      " 28  DEF_PAY 2   29999 non-null  object  \n",
      "dtypes: category(1), int64(24), object(4)\n",
      "memory usage: 6.7+ MB\n"
     ]
    }
   ],
   "source": [
    "# Check data definition\n",
    "credit.info()"
   ]
  },
  {
   "cell_type": "code",
   "execution_count": 24,
   "metadata": {},
   "outputs": [
    {
     "name": "stdout",
     "output_type": "stream",
     "text": [
      "Index(['LIMIT_BAL', 'GENDER', 'EDUCATION', 'MARRIAGE', 'AGE', 'PAY_0', 'PAY_2',\n",
      "       'PAY_3', 'PAY_4', 'PAY_5', 'PAY_6', 'BILL_AMT1', 'BILL_AMT2',\n",
      "       'BILL_AMT3', 'BILL_AMT4', 'BILL_AMT5', 'BILL_AMT6', 'PAY_AMT1',\n",
      "       'PAY_AMT2', 'PAY_AMT3', 'PAY_AMT4', 'PAY_AMT5', 'PAY_AMT6', 'DEF_PAY',\n",
      "       'AGE_RANGE', 'GENDER2', 'MARRIAGE2', 'EDUCATION2', 'DEF_PAY 2'],\n",
      "      dtype='object')\n"
     ]
    }
   ],
   "source": [
    "# Check the Header\n",
    "header = credit.dtypes.index\n",
    "print(header)"
   ]
  },
  {
   "cell_type": "code",
   "execution_count": 25,
   "metadata": {},
   "outputs": [
    {
     "data": {
      "image/png": "[encoded data removed]",
      "text/plain": [
       "<Figure size 432x288 with 1 Axes>"
      ]
     },
     "metadata": {
      "needs_background": "light"
     },
     "output_type": "display_data"
    }
   ],
   "source": [
    "# create a char of the Limit_Bal\n",
    "plt.hist(credit['LIMIT_BAL'])\n",
    "plt.show()"
   ]
  },
  {
   "cell_type": "code",
   "execution_count": 26,
   "metadata": {},
   "outputs": [
    {
     "data": {
      "text/plain": [
       "(array([20378.,  7818.,  1725.,    78.]),\n",
       " array([ 10000., 207500., 405000., 602500., 800000.]),\n",
       " <a list of 4 Patch objects>)"
      ]
     },
     "execution_count": 26,
     "metadata": {},
     "output_type": "execute_result"
    },
    {
     "data": {
      "image/png": "[encoded data removed]",
      "text/plain": [
       "<Figure size 432x288 with 1 Axes>"
      ]
     },
     "metadata": {
      "needs_background": "light"
     },
     "output_type": "display_data"
    }
   ],
   "source": [
    "# create a char of the Limit_Bal\n",
    "plt.hist(credit['LIMIT_BAL'], bins=4)"
   ]
  },
  {
   "cell_type": "code",
   "execution_count": 27,
   "metadata": {},
   "outputs": [
    {
     "data": {
      "image/png": "[encoded data removed]",
      "text/plain": [
       "<Figure size 432x288 with 1 Axes>"
      ]
     },
     "metadata": {
      "needs_background": "light"
     },
     "output_type": "display_data"
    }
   ],
   "source": [
    "# Limite \n",
    "plt.plot(credit['LIMIT_BAL'])\n",
    "plt.show()"
   ]
  },
  {
   "cell_type": "code",
   "execution_count": 28,
   "metadata": {},
   "outputs": [
    {
     "data": {
      "image/png": "[encoded data removed]",
      "text/plain": [
       "<Figure size 432x288 with 1 Axes>"
      ]
     },
     "metadata": {
      "needs_background": "light"
     },
     "output_type": "display_data"
    }
   ],
   "source": [
    "#Scatter Plots\n",
    "x = credit['PAY_0']\n",
    "y = credit['PAY_2']\n",
    "plt.scatter(x,y)\n",
    "plt.show()"
   ]
  },
  {
   "cell_type": "code",
   "execution_count": 29,
   "metadata": {},
   "outputs": [
    {
     "name": "stdout",
     "output_type": "stream",
     "text": [
      "Index(['LIMIT_BAL', 'GENDER', 'EDUCATION', 'MARRIAGE', 'AGE', 'PAY_0', 'PAY_2',\n",
      "       'PAY_3', 'PAY_4', 'PAY_5', 'PAY_6', 'BILL_AMT1', 'BILL_AMT2',\n",
      "       'BILL_AMT3', 'BILL_AMT4', 'BILL_AMT5', 'BILL_AMT6', 'PAY_AMT1',\n",
      "       'PAY_AMT2', 'PAY_AMT3', 'PAY_AMT4', 'PAY_AMT5', 'PAY_AMT6', 'DEF_PAY',\n",
      "       'AGE_RANGE', 'GENDER2', 'MARRIAGE2', 'EDUCATION2', 'DEF_PAY 2'],\n",
      "      dtype='object')\n"
     ]
    }
   ],
   "source": [
    "# Create a  Box Plots\n",
    "header = credit.dtypes.index\n",
    "print(header)"
   ]
  },
  {
   "cell_type": "code",
   "execution_count": 30,
   "metadata": {},
   "outputs": [
    {
     "data": {
      "image/png": "[encoded data removed]",
      "text/plain": [
       "<Figure size 432x288 with 1 Axes>"
      ]
     },
     "metadata": {
      "needs_background": "light"
     },
     "output_type": "display_data"
    }
   ],
   "source": [
    "#build a plot plot with one of the features in our data\n",
    "A = credit['BILL_AMT1']\n",
    "plt.boxplot(A,0,'gD')\n",
    "plt.show()"
   ]
  },
  {
   "cell_type": "code",
   "execution_count": 31,
   "metadata": {},
   "outputs": [
    {
     "name": "stdout",
     "output_type": "stream",
     "text": [
      "           LIMIT_BAL    GENDER  EDUCATION  MARRIAGE       AGE     PAY_0  \\\n",
      "LIMIT_BAL   1.000000  0.024599  -0.219084 -0.107989  0.144549 -0.271404   \n",
      "GENDER      0.024599  1.000000   0.014262 -0.031361 -0.090911 -0.057644   \n",
      "EDUCATION  -0.219084  0.014262   1.000000 -0.143508  0.175114  0.105367   \n",
      "MARRIAGE   -0.107989 -0.031361  -0.143508  1.000000 -0.414144  0.019918   \n",
      "AGE         0.144549 -0.090911   0.175114 -0.414144  1.000000 -0.039449   \n",
      "PAY_0      -0.271404 -0.057644   0.105367  0.019918 -0.039449  1.000000   \n",
      "PAY_2      -0.296610 -0.070775   0.121572  0.024203 -0.050154  0.672164   \n",
      "PAY_3      -0.286349 -0.066101   0.114032  0.032693 -0.053056  0.574245   \n",
      "PAY_4      -0.267503 -0.060156   0.108772  0.033099 -0.049696  0.538845   \n",
      "PAY_5      -0.249633 -0.055071   0.097531  0.035638 -0.053837  0.509426   \n",
      "PAY_6      -0.235411 -0.044015   0.082327  0.034354 -0.048785  0.474553   \n",
      "BILL_AMT1   0.283700 -0.034065   0.024090 -0.023094  0.055867  0.187544   \n",
      "BILL_AMT2   0.276490 -0.031630   0.019277 -0.021200  0.053893  0.190401   \n",
      "BILL_AMT3   0.282157 -0.024774   0.013267 -0.024682  0.053462  0.179930   \n",
      "BILL_AMT4   0.292215 -0.022301   0.000023 -0.022946  0.050953  0.179640   \n",
      "BILL_AMT5   0.293687 -0.017461  -0.007067 -0.024968  0.048913  0.181271   \n",
      "BILL_AMT6   0.288428 -0.017221  -0.008576 -0.020744  0.047158  0.177685   \n",
      "PAY_AMT1    0.194811 -0.000316  -0.037364 -0.005884  0.026037 -0.079280   \n",
      "PAY_AMT2    0.178126 -0.001444  -0.029971 -0.008025  0.021706 -0.070106   \n",
      "PAY_AMT3    0.208579 -0.010418  -0.039862 -0.001838  0.028379 -0.073805   \n",
      "PAY_AMT4    0.202793 -0.002307  -0.038120 -0.012560  0.021262 -0.064015   \n",
      "PAY_AMT5    0.216750 -0.001747  -0.040259 -0.001101  0.022731 -0.058200   \n",
      "PAY_AMT6    0.219227 -0.002835  -0.037113 -0.006552  0.019375 -0.058681   \n",
      "DEF_PAY    -0.153512 -0.039947   0.027988 -0.024359  0.013912  0.324796   \n",
      "\n",
      "              PAY_2     PAY_3     PAY_4     PAY_5  ...  BILL_AMT4  BILL_AMT5  \\\n",
      "LIMIT_BAL -0.296610 -0.286349 -0.267503 -0.249633  ...   0.292215   0.293687   \n",
      "GENDER    -0.070775 -0.066101 -0.060156 -0.055071  ...  -0.022301  -0.017461   \n",
      "EDUCATION  0.121572  0.114032  0.108772  0.097531  ...   0.000023  -0.007067   \n",
      "MARRIAGE   0.024203  0.032693  0.033099  0.035638  ...  -0.022946  -0.024968   \n",
      "AGE       -0.050154 -0.053056 -0.049696 -0.053837  ...   0.050953   0.048913   \n",
      "PAY_0      0.672164  0.574245  0.538845  0.509426  ...   0.179640   0.181271   \n",
      "PAY_2      1.000000  0.766552  0.662075  0.622780  ...   0.222834   0.222083   \n",
      "PAY_3      0.766552  1.000000  0.777368  0.686774  ...   0.227802   0.225880   \n",
      "PAY_4      0.662075  0.777368  1.000000  0.819847  ...   0.246929   0.244095   \n",
      "PAY_5      0.622780  0.686774  0.819847  1.000000  ...   0.272603   0.270631   \n",
      "PAY_6      0.575501  0.632683  0.716461  0.816900  ...   0.267020   0.291808   \n",
      "BILL_AMT1  0.235445  0.208952  0.203612  0.207119  ...   0.859515   0.828812   \n",
      "BILL_AMT2  0.235887  0.237919  0.226763  0.227466  ...   0.891858   0.858908   \n",
      "BILL_AMT3  0.224305  0.227650  0.245344  0.243481  ...   0.924320   0.884358   \n",
      "BILL_AMT4  0.222834  0.227802  0.246929  0.272603  ...   1.000000   0.939779   \n",
      "BILL_AMT5  0.222083  0.225880  0.244095  0.270631  ...   0.939779   1.000000   \n",
      "BILL_AMT6  0.220229  0.223150  0.240464  0.263445  ...   0.900343   0.945802   \n",
      "PAY_AMT1  -0.080721  0.001282 -0.009303 -0.006111  ...   0.232518   0.216502   \n",
      "PAY_AMT2  -0.059001 -0.066807 -0.001901 -0.003207  ...   0.207324   0.180955   \n",
      "PAY_AMT3  -0.058648 -0.055987 -0.071218  0.009061  ...   0.291297   0.238936   \n",
      "PAY_AMT4  -0.046876 -0.046086 -0.043404 -0.058330  ...   0.129317   0.292797   \n",
      "PAY_AMT5  -0.037110 -0.035882 -0.033529 -0.033365  ...   0.159619   0.140656   \n",
      "PAY_AMT6  -0.036514 -0.035877 -0.026512 -0.023050  ...   0.177056   0.163551   \n",
      "DEF_PAY    0.263554  0.235256  0.216604  0.204154  ...  -0.009951  -0.006525   \n",
      "\n",
      "           BILL_AMT6  PAY_AMT1  PAY_AMT2  PAY_AMT3  PAY_AMT4  PAY_AMT5  \\\n",
      "LIMIT_BAL   0.288428  0.194811  0.178126  0.208579  0.202793  0.216750   \n",
      "GENDER     -0.017221 -0.000316 -0.001444 -0.010418 -0.002307 -0.001747   \n",
      "EDUCATION  -0.008576 -0.037364 -0.029971 -0.039862 -0.038120 -0.040259   \n",
      "MARRIAGE   -0.020744 -0.005884 -0.008025 -0.001838 -0.012560 -0.001101   \n",
      "AGE         0.047158  0.026037  0.021706  0.028379  0.021262  0.022731   \n",
      "PAY_0       0.177685 -0.079280 -0.070106 -0.073805 -0.064015 -0.058200   \n",
      "PAY_2       0.220229 -0.080721 -0.059001 -0.058648 -0.046876 -0.037110   \n",
      "PAY_3       0.223150  0.001282 -0.066807 -0.055987 -0.046086 -0.035882   \n",
      "PAY_4       0.240464 -0.009303 -0.001901 -0.071218 -0.043404 -0.033529   \n",
      "PAY_5       0.263445 -0.006111 -0.003207  0.009061 -0.058330 -0.033365   \n",
      "PAY_6       0.286108 -0.001519 -0.005240  0.005653  0.018996 -0.046465   \n",
      "BILL_AMT1   0.801507  0.139526  0.098811  0.142536  0.157537  0.166254   \n",
      "BILL_AMT2   0.830522  0.280013  0.100295  0.134819  0.146578  0.157137   \n",
      "BILL_AMT3   0.853811  0.243928  0.316761  0.123633  0.142866  0.179192   \n",
      "BILL_AMT4   0.900343  0.232518  0.207324  0.291297  0.129317  0.159619   \n",
      "BILL_AMT5   0.945802  0.216502  0.180955  0.238936  0.292797  0.140656   \n",
      "BILL_AMT6   1.000000  0.199382  0.172361  0.217980  0.249783  0.307478   \n",
      "PAY_AMT1    0.199382  1.000000  0.285452  0.258921  0.199348  0.148231   \n",
      "PAY_AMT2    0.172361  0.285452  1.000000  0.252520  0.179956  0.180754   \n",
      "PAY_AMT3    0.217980  0.258921  0.252520  1.000000  0.221136  0.161281   \n",
      "PAY_AMT4    0.249783  0.199348  0.179956  0.221136  1.000000  0.151589   \n",
      "PAY_AMT5    0.307478  0.148231  0.180754  0.161281  0.151589  1.000000   \n",
      "PAY_AMT6    0.114657  0.185548  0.157496  0.165712  0.157629  0.154685   \n",
      "DEF_PAY    -0.005118 -0.072890 -0.058548 -0.057876 -0.056784 -0.055079   \n",
      "\n",
      "           PAY_AMT6   DEF_PAY  \n",
      "LIMIT_BAL  0.219227 -0.153512  \n",
      "GENDER    -0.002835 -0.039947  \n",
      "EDUCATION -0.037113  0.027988  \n",
      "MARRIAGE  -0.006552 -0.024359  \n",
      "AGE        0.019375  0.013912  \n",
      "PAY_0     -0.058681  0.324796  \n",
      "PAY_2     -0.036514  0.263554  \n",
      "PAY_3     -0.035877  0.235256  \n",
      "PAY_4     -0.026512  0.216604  \n",
      "PAY_5     -0.023050  0.204154  \n",
      "PAY_6     -0.025323  0.186872  \n",
      "BILL_AMT1  0.178772 -0.019474  \n",
      "BILL_AMT2  0.173665 -0.014000  \n",
      "BILL_AMT3  0.181901 -0.013962  \n",
      "BILL_AMT4  0.177056 -0.009951  \n",
      "BILL_AMT5  0.163551 -0.006525  \n",
      "BILL_AMT6  0.114657 -0.005118  \n",
      "PAY_AMT1   0.185548 -0.072890  \n",
      "PAY_AMT2   0.157496 -0.058548  \n",
      "PAY_AMT3   0.165712 -0.057876  \n",
      "PAY_AMT4   0.157629 -0.056784  \n",
      "PAY_AMT5   0.154685 -0.055079  \n",
      "PAY_AMT6   1.000000 -0.053144  \n",
      "DEF_PAY   -0.053144  1.000000  \n",
      "\n",
      "[24 rows x 24 columns]\n"
     ]
    }
   ],
   "source": [
    "#Correlation\n",
    "\n",
    "corrMat = credit.corr()\n",
    "print(corrMat)\n"
   ]
  },
  {
   "cell_type": "code",
   "execution_count": 32,
   "metadata": {},
   "outputs": [],
   "source": [
    "#Correlation\n",
    "corrMat = credit.corr()\n",
    "corrMat.to_csv(r'C:\\CreditOne\\CorrMat.csv')"
   ]
  },
  {
   "cell_type": "code",
   "execution_count": 33,
   "metadata": {},
   "outputs": [],
   "source": [
    "# Covariance\n",
    "covMat = credit.cov()\n",
    "\n",
    "#print(covMat)\n",
    "covMat.to_csv(r'C:\\CreditOne\\CovMat.csv')"
   ]
  },
  {
   "cell_type": "code",
   "execution_count": 34,
   "metadata": {},
   "outputs": [
    {
     "data": {
      "text/plain": [
       "Index(['LIMIT_BAL', 'GENDER', 'EDUCATION', 'MARRIAGE', 'AGE', 'PAY_0', 'PAY_2',\n",
       "       'PAY_3', 'PAY_4', 'PAY_5', 'PAY_6', 'BILL_AMT1', 'BILL_AMT2',\n",
       "       'BILL_AMT3', 'BILL_AMT4', 'BILL_AMT5', 'BILL_AMT6', 'PAY_AMT1',\n",
       "       'PAY_AMT2', 'PAY_AMT3', 'PAY_AMT4', 'PAY_AMT5', 'PAY_AMT6', 'DEF_PAY',\n",
       "       'AGE_RANGE', 'GENDER2', 'MARRIAGE2', 'EDUCATION2', 'DEF_PAY 2'],\n",
       "      dtype='object')"
      ]
     },
     "execution_count": 34,
     "metadata": {},
     "output_type": "execute_result"
    }
   ],
   "source": [
    "# Create EDA Credit One\n",
    "credit.columns"
   ]
  },
  {
   "cell_type": "code",
   "execution_count": 35,
   "metadata": {},
   "outputs": [
    {
     "name": "stdout",
     "output_type": "stream",
     "text": [
      "<class 'pandas.core.frame.DataFrame'>\n",
      "Int64Index: 29999 entries, 0 to 29999\n",
      "Data columns (total 29 columns):\n",
      " #   Column      Non-Null Count  Dtype   \n",
      "---  ------      --------------  -----   \n",
      " 0   LIMIT_BAL   29999 non-null  int64   \n",
      " 1   GENDER      29999 non-null  int64   \n",
      " 2   EDUCATION   29999 non-null  int64   \n",
      " 3   MARRIAGE    29999 non-null  int64   \n",
      " 4   AGE         29999 non-null  int64   \n",
      " 5   PAY_0       29999 non-null  int64   \n",
      " 6   PAY_2       29999 non-null  int64   \n",
      " 7   PAY_3       29999 non-null  int64   \n",
      " 8   PAY_4       29999 non-null  int64   \n",
      " 9   PAY_5       29999 non-null  int64   \n",
      " 10  PAY_6       29999 non-null  int64   \n",
      " 11  BILL_AMT1   29999 non-null  int64   \n",
      " 12  BILL_AMT2   29999 non-null  int64   \n",
      " 13  BILL_AMT3   29999 non-null  int64   \n",
      " 14  BILL_AMT4   29999 non-null  int64   \n",
      " 15  BILL_AMT5   29999 non-null  int64   \n",
      " 16  BILL_AMT6   29999 non-null  int64   \n",
      " 17  PAY_AMT1    29999 non-null  int64   \n",
      " 18  PAY_AMT2    29999 non-null  int64   \n",
      " 19  PAY_AMT3    29999 non-null  int64   \n",
      " 20  PAY_AMT4    29999 non-null  int64   \n",
      " 21  PAY_AMT5    29999 non-null  int64   \n",
      " 22  PAY_AMT6    29999 non-null  int64   \n",
      " 23  DEF_PAY     29999 non-null  int64   \n",
      " 24  AGE_RANGE   29999 non-null  category\n",
      " 25  GENDER2     29999 non-null  object  \n",
      " 26  MARRIAGE2   29999 non-null  object  \n",
      " 27  EDUCATION2  29999 non-null  object  \n",
      " 28  DEF_PAY 2   29999 non-null  object  \n",
      "dtypes: category(1), int64(24), object(4)\n",
      "memory usage: 6.7+ MB\n"
     ]
    }
   ],
   "source": [
    "credit.info()"
   ]
  },
  {
   "cell_type": "code",
   "execution_count": 36,
   "metadata": {},
   "outputs": [
    {
     "data": {
      "text/plain": [
       "GENDER2\n",
       "Female    18111\n",
       "Male      11888\n",
       "Name: GENDER2, dtype: int64"
      ]
     },
     "execution_count": 36,
     "metadata": {},
     "output_type": "execute_result"
    }
   ],
   "source": [
    "credit.groupby('GENDER2')['GENDER2'].count()"
   ]
  },
  {
   "cell_type": "code",
   "execution_count": 37,
   "metadata": {},
   "outputs": [
    {
     "data": {
      "text/html": [
       "<div>\n",
       "<style scoped>\n",
       "    .dataframe tbody tr th:only-of-type {\n",
       "        vertical-align: middle;\n",
       "    }\n",
       "\n",
       "    .dataframe tbody tr th {\n",
       "        vertical-align: top;\n",
       "    }\n",
       "\n",
       "    .dataframe thead th {\n",
       "        text-align: right;\n",
       "    }\n",
       "</style>\n",
       "<table border=\"1\" class=\"dataframe\">\n",
       "  <thead>\n",
       "    <tr style=\"text-align: right;\">\n",
       "      <th></th>\n",
       "      <th>LIMIT_BAL</th>\n",
       "      <th>GENDER</th>\n",
       "      <th>EDUCATION</th>\n",
       "      <th>MARRIAGE</th>\n",
       "      <th>AGE</th>\n",
       "      <th>PAY_0</th>\n",
       "      <th>PAY_2</th>\n",
       "      <th>PAY_3</th>\n",
       "      <th>PAY_4</th>\n",
       "      <th>PAY_5</th>\n",
       "      <th>...</th>\n",
       "      <th>PAY_AMT2</th>\n",
       "      <th>PAY_AMT3</th>\n",
       "      <th>PAY_AMT4</th>\n",
       "      <th>PAY_AMT5</th>\n",
       "      <th>PAY_AMT6</th>\n",
       "      <th>DEF_PAY</th>\n",
       "      <th>AGE_RANGE</th>\n",
       "      <th>MARRIAGE2</th>\n",
       "      <th>EDUCATION2</th>\n",
       "      <th>DEF_PAY 2</th>\n",
       "    </tr>\n",
       "    <tr>\n",
       "      <th>GENDER2</th>\n",
       "      <th></th>\n",
       "      <th></th>\n",
       "      <th></th>\n",
       "      <th></th>\n",
       "      <th></th>\n",
       "      <th></th>\n",
       "      <th></th>\n",
       "      <th></th>\n",
       "      <th></th>\n",
       "      <th></th>\n",
       "      <th></th>\n",
       "      <th></th>\n",
       "      <th></th>\n",
       "      <th></th>\n",
       "      <th></th>\n",
       "      <th></th>\n",
       "      <th></th>\n",
       "      <th></th>\n",
       "      <th></th>\n",
       "      <th></th>\n",
       "      <th></th>\n",
       "    </tr>\n",
       "  </thead>\n",
       "  <tbody>\n",
       "    <tr>\n",
       "      <th>Female</th>\n",
       "      <td>18111</td>\n",
       "      <td>18111</td>\n",
       "      <td>18111</td>\n",
       "      <td>18111</td>\n",
       "      <td>18111</td>\n",
       "      <td>18111</td>\n",
       "      <td>18111</td>\n",
       "      <td>18111</td>\n",
       "      <td>18111</td>\n",
       "      <td>18111</td>\n",
       "      <td>...</td>\n",
       "      <td>18111</td>\n",
       "      <td>18111</td>\n",
       "      <td>18111</td>\n",
       "      <td>18111</td>\n",
       "      <td>18111</td>\n",
       "      <td>18111</td>\n",
       "      <td>18111</td>\n",
       "      <td>18111</td>\n",
       "      <td>18111</td>\n",
       "      <td>18111</td>\n",
       "    </tr>\n",
       "    <tr>\n",
       "      <th>Male</th>\n",
       "      <td>11888</td>\n",
       "      <td>11888</td>\n",
       "      <td>11888</td>\n",
       "      <td>11888</td>\n",
       "      <td>11888</td>\n",
       "      <td>11888</td>\n",
       "      <td>11888</td>\n",
       "      <td>11888</td>\n",
       "      <td>11888</td>\n",
       "      <td>11888</td>\n",
       "      <td>...</td>\n",
       "      <td>11888</td>\n",
       "      <td>11888</td>\n",
       "      <td>11888</td>\n",
       "      <td>11888</td>\n",
       "      <td>11888</td>\n",
       "      <td>11888</td>\n",
       "      <td>11888</td>\n",
       "      <td>11888</td>\n",
       "      <td>11888</td>\n",
       "      <td>11888</td>\n",
       "    </tr>\n",
       "  </tbody>\n",
       "</table>\n",
       "<p>2 rows × 28 columns</p>\n",
       "</div>"
      ],
      "text/plain": [
       "         LIMIT_BAL  GENDER  EDUCATION  MARRIAGE    AGE  PAY_0  PAY_2  PAY_3  \\\n",
       "GENDER2                                                                       \n",
       "Female       18111   18111      18111     18111  18111  18111  18111  18111   \n",
       "Male         11888   11888      11888     11888  11888  11888  11888  11888   \n",
       "\n",
       "         PAY_4  PAY_5  ...  PAY_AMT2  PAY_AMT3  PAY_AMT4  PAY_AMT5  PAY_AMT6  \\\n",
       "GENDER2                ...                                                     \n",
       "Female   18111  18111  ...     18111     18111     18111     18111     18111   \n",
       "Male     11888  11888  ...     11888     11888     11888     11888     11888   \n",
       "\n",
       "         DEF_PAY  AGE_RANGE  MARRIAGE2  EDUCATION2  DEF_PAY 2  \n",
       "GENDER2                                                        \n",
       "Female     18111      18111      18111       18111      18111  \n",
       "Male       11888      11888      11888       11888      11888  \n",
       "\n",
       "[2 rows x 28 columns]"
      ]
     },
     "execution_count": 37,
     "metadata": {},
     "output_type": "execute_result"
    }
   ],
   "source": [
    "credit.groupby('GENDER2').count()"
   ]
  },
  {
   "cell_type": "code",
   "execution_count": 38,
   "metadata": {},
   "outputs": [
    {
     "data": {
      "text/plain": [
       "<seaborn.axisgrid.FacetGrid at 0x29445a28208>"
      ]
     },
     "execution_count": 38,
     "metadata": {},
     "output_type": "execute_result"
    },
    {
     "data": {
      "image/png": "[encoded data removed]",
      "text/plain": [
       "<Figure size 540x360 with 1 Axes>"
      ]
     },
     "metadata": {
      "needs_background": "light"
     },
     "output_type": "display_data"
    }
   ],
   "source": [
    "# Instead of a group by, use seaborn to plot the number of males and females\n",
    "sns.factorplot('GENDER2', data=credit, kind='count', aspect=1.5)\n"
   ]
  },
  {
   "cell_type": "code",
   "execution_count": 39,
   "metadata": {},
   "outputs": [
    {
     "data": {
      "text/plain": [
       "GENDER2  EDUCATION2     \n",
       "Female   Graduate School    6230\n",
       "         High School        2927\n",
       "         Other               298\n",
       "         University         8656\n",
       "Male     Graduate School    4354\n",
       "         High School        1990\n",
       "         Other               170\n",
       "         University         5374\n",
       "Name: GENDER, dtype: int64"
      ]
     },
     "execution_count": 39,
     "metadata": {},
     "output_type": "execute_result"
    }
   ],
   "source": [
    "# Number of men and women in each of the education\n",
    "credit.groupby(['GENDER2', 'EDUCATION2'])['GENDER'].count()"
   ]
  },
  {
   "cell_type": "code",
   "execution_count": 40,
   "metadata": {},
   "outputs": [
    {
     "data": {
      "text/plain": [
       "<seaborn.axisgrid.FacetGrid at 0x29446a2b288>"
      ]
     },
     "execution_count": 40,
     "metadata": {},
     "output_type": "execute_result"
    },
    {
     "data": {
      "image/png": "[encoded data removed]",
      "text/plain": [
       "<Figure size 702.625x360 with 1 Axes>"
      ]
     },
     "metadata": {
      "needs_background": "light"
     },
     "output_type": "display_data"
    }
   ],
   "source": [
    "# Again use saeborn to group by Gender and Education\n",
    "g = sns.factorplot('EDUCATION2', data=credit, hue='GENDER2', kind='count', aspect=1.75)\n",
    "g.set_xlabels('Education by Gender')"
   ]
  },
  {
   "cell_type": "code",
   "execution_count": 41,
   "metadata": {},
   "outputs": [
    {
     "data": {
      "text/html": [
       "<div>\n",
       "<style scoped>\n",
       "    .dataframe tbody tr th:only-of-type {\n",
       "        vertical-align: middle;\n",
       "    }\n",
       "\n",
       "    .dataframe tbody tr th {\n",
       "        vertical-align: top;\n",
       "    }\n",
       "\n",
       "    .dataframe thead th {\n",
       "        text-align: right;\n",
       "    }\n",
       "</style>\n",
       "<table border=\"1\" class=\"dataframe\">\n",
       "  <thead>\n",
       "    <tr style=\"text-align: right;\">\n",
       "      <th>EDUCATION2</th>\n",
       "      <th>Graduate School</th>\n",
       "      <th>High School</th>\n",
       "      <th>Other</th>\n",
       "      <th>University</th>\n",
       "      <th>All</th>\n",
       "    </tr>\n",
       "    <tr>\n",
       "      <th>GENDER2</th>\n",
       "      <th></th>\n",
       "      <th></th>\n",
       "      <th></th>\n",
       "      <th></th>\n",
       "      <th></th>\n",
       "    </tr>\n",
       "  </thead>\n",
       "  <tbody>\n",
       "    <tr>\n",
       "      <th>Female</th>\n",
       "      <td>10443</td>\n",
       "      <td>4044</td>\n",
       "      <td>450</td>\n",
       "      <td>12929</td>\n",
       "      <td>27866</td>\n",
       "    </tr>\n",
       "    <tr>\n",
       "      <th>Male</th>\n",
       "      <td>7046</td>\n",
       "      <td>2944</td>\n",
       "      <td>260</td>\n",
       "      <td>8439</td>\n",
       "      <td>18689</td>\n",
       "    </tr>\n",
       "    <tr>\n",
       "      <th>All</th>\n",
       "      <td>17489</td>\n",
       "      <td>6988</td>\n",
       "      <td>710</td>\n",
       "      <td>21368</td>\n",
       "      <td>46555</td>\n",
       "    </tr>\n",
       "  </tbody>\n",
       "</table>\n",
       "</div>"
      ],
      "text/plain": [
       "EDUCATION2  Graduate School  High School  Other  University    All\n",
       "GENDER2                                                           \n",
       "Female                10443         4044    450       12929  27866\n",
       "Male                   7046         2944    260        8439  18689\n",
       "All                   17489         6988    710       21368  46555"
      ]
     },
     "execution_count": 41,
     "metadata": {},
     "output_type": "execute_result"
    }
   ],
   "source": [
    "# Pivot Table \n",
    "credit.pivot_table('MARRIAGE', 'GENDER2', 'EDUCATION2', aggfunc=np.sum, margins=True)"
   ]
  },
  {
   "cell_type": "code",
   "execution_count": 42,
   "metadata": {},
   "outputs": [],
   "source": [
    "#\n",
    "table = pd.crosstab(index=[credit.GENDER,credit.MARRIAGE], columns=[credit.GENDER2,credit.AGE])"
   ]
  },
  {
   "cell_type": "code",
   "execution_count": 43,
   "metadata": {},
   "outputs": [
    {
     "data": {
      "text/html": [
       "<div>\n",
       "<style scoped>\n",
       "    .dataframe tbody tr th:only-of-type {\n",
       "        vertical-align: middle;\n",
       "    }\n",
       "\n",
       "    .dataframe tbody tr th {\n",
       "        vertical-align: top;\n",
       "    }\n",
       "\n",
       "    .dataframe thead tr th {\n",
       "        text-align: left;\n",
       "    }\n",
       "\n",
       "    .dataframe thead tr:last-of-type th {\n",
       "        text-align: right;\n",
       "    }\n",
       "</style>\n",
       "<table border=\"1\" class=\"dataframe\">\n",
       "  <thead>\n",
       "    <tr>\n",
       "      <th>GENDER2</th>\n",
       "      <th colspan=\"10\" halign=\"left\">Female</th>\n",
       "      <th>...</th>\n",
       "      <th colspan=\"10\" halign=\"left\">Male</th>\n",
       "    </tr>\n",
       "    <tr>\n",
       "      <th>AGE</th>\n",
       "      <th colspan=\"4\" halign=\"left\">21</th>\n",
       "      <th colspan=\"4\" halign=\"left\">22</th>\n",
       "      <th colspan=\"2\" halign=\"left\">23</th>\n",
       "      <th>...</th>\n",
       "      <th colspan=\"2\" halign=\"left\">73</th>\n",
       "      <th colspan=\"4\" halign=\"left\">75</th>\n",
       "      <th colspan=\"4\" halign=\"left\">79</th>\n",
       "    </tr>\n",
       "    <tr>\n",
       "      <th>MARRIAGE</th>\n",
       "      <th>0</th>\n",
       "      <th>1</th>\n",
       "      <th>2</th>\n",
       "      <th>3</th>\n",
       "      <th>0</th>\n",
       "      <th>1</th>\n",
       "      <th>2</th>\n",
       "      <th>3</th>\n",
       "      <th>0</th>\n",
       "      <th>1</th>\n",
       "      <th>...</th>\n",
       "      <th>2</th>\n",
       "      <th>3</th>\n",
       "      <th>0</th>\n",
       "      <th>1</th>\n",
       "      <th>2</th>\n",
       "      <th>3</th>\n",
       "      <th>0</th>\n",
       "      <th>1</th>\n",
       "      <th>2</th>\n",
       "      <th>3</th>\n",
       "    </tr>\n",
       "    <tr>\n",
       "      <th>GENDER</th>\n",
       "      <th></th>\n",
       "      <th></th>\n",
       "      <th></th>\n",
       "      <th></th>\n",
       "      <th></th>\n",
       "      <th></th>\n",
       "      <th></th>\n",
       "      <th></th>\n",
       "      <th></th>\n",
       "      <th></th>\n",
       "      <th></th>\n",
       "      <th></th>\n",
       "      <th></th>\n",
       "      <th></th>\n",
       "      <th></th>\n",
       "      <th></th>\n",
       "      <th></th>\n",
       "      <th></th>\n",
       "      <th></th>\n",
       "      <th></th>\n",
       "      <th></th>\n",
       "    </tr>\n",
       "  </thead>\n",
       "  <tbody>\n",
       "    <tr>\n",
       "      <th>1</th>\n",
       "      <td>0</td>\n",
       "      <td>0</td>\n",
       "      <td>0</td>\n",
       "      <td>0</td>\n",
       "      <td>0</td>\n",
       "      <td>0</td>\n",
       "      <td>0</td>\n",
       "      <td>0</td>\n",
       "      <td>0</td>\n",
       "      <td>0</td>\n",
       "      <td>...</td>\n",
       "      <td>0</td>\n",
       "      <td>0</td>\n",
       "      <td>0</td>\n",
       "      <td>2</td>\n",
       "      <td>0</td>\n",
       "      <td>0</td>\n",
       "      <td>0</td>\n",
       "      <td>1</td>\n",
       "      <td>0</td>\n",
       "      <td>0</td>\n",
       "    </tr>\n",
       "    <tr>\n",
       "      <th>2</th>\n",
       "      <td>0</td>\n",
       "      <td>7</td>\n",
       "      <td>39</td>\n",
       "      <td>0</td>\n",
       "      <td>0</td>\n",
       "      <td>47</td>\n",
       "      <td>370</td>\n",
       "      <td>4</td>\n",
       "      <td>1</td>\n",
       "      <td>77</td>\n",
       "      <td>...</td>\n",
       "      <td>0</td>\n",
       "      <td>0</td>\n",
       "      <td>0</td>\n",
       "      <td>0</td>\n",
       "      <td>0</td>\n",
       "      <td>0</td>\n",
       "      <td>0</td>\n",
       "      <td>0</td>\n",
       "      <td>0</td>\n",
       "      <td>0</td>\n",
       "    </tr>\n",
       "  </tbody>\n",
       "</table>\n",
       "<p>2 rows × 440 columns</p>\n",
       "</div>"
      ],
      "text/plain": [
       "GENDER2  Female                                  ... Male                    \\\n",
       "AGE          21           22             23      ...   73    75          79   \n",
       "MARRIAGE      0  1   2  3  0   1    2  3  0   1  ...    2  3  0  1  2  3  0   \n",
       "GENDER                                           ...                          \n",
       "1             0  0   0  0  0   0    0  0  0   0  ...    0  0  0  2  0  0  0   \n",
       "2             0  7  39  0  0  47  370  4  1  77  ...    0  0  0  0  0  0  0   \n",
       "\n",
       "GENDER2            \n",
       "AGE                \n",
       "MARRIAGE  1  2  3  \n",
       "GENDER             \n",
       "1         1  0  0  \n",
       "2         0  0  0  \n",
       "\n",
       "[2 rows x 440 columns]"
      ]
     },
     "execution_count": 43,
     "metadata": {},
     "output_type": "execute_result"
    }
   ],
   "source": [
    "table.unstack()"
   ]
  },
  {
   "cell_type": "code",
   "execution_count": 44,
   "metadata": {},
   "outputs": [
    {
     "data": {
      "text/plain": [
       "count    29999.000000\n",
       "mean        35.485116\n",
       "std          9.217818\n",
       "min         21.000000\n",
       "25%         28.000000\n",
       "50%         34.000000\n",
       "75%         41.000000\n",
       "max         79.000000\n",
       "Name: AGE, dtype: float64"
      ]
     },
     "execution_count": 44,
     "metadata": {},
     "output_type": "execute_result"
    }
   ],
   "source": [
    "# Describe the age\n",
    "credit.AGE.describe()"
   ]
  },
  {
   "cell_type": "code",
   "execution_count": 45,
   "metadata": {},
   "outputs": [],
   "source": [
    "# Drop missing values for the records in which age passenger is missing\n",
    "AGE = credit['AGE'].dropna()"
   ]
  },
  {
   "cell_type": "code",
   "execution_count": 46,
   "metadata": {},
   "outputs": [
    {
     "data": {
      "text/plain": [
       "Text(0.5, 1.0, \"Distribution of Clients' Ages\")"
      ]
     },
     "execution_count": 46,
     "metadata": {},
     "output_type": "execute_result"
    },
    {
     "data": {
      "image/png": "[encoded data removed]",
      "text/plain": [
       "<Figure size 432x288 with 1 Axes>"
      ]
     },
     "metadata": {
      "needs_background": "light"
     },
     "output_type": "display_data"
    }
   ],
   "source": [
    "# Distribution of age, with an overlay of a density plot\n",
    "age_dist = sns.distplot(AGE)\n",
    "age_dist.set_title(\"Distribution of Clients' Ages\")"
   ]
  },
  {
   "cell_type": "code",
   "execution_count": 47,
   "metadata": {},
   "outputs": [
    {
     "data": {
      "text/plain": [
       "<matplotlib.axes._subplots.AxesSubplot at 0x29445d1b988>"
      ]
     },
     "execution_count": 47,
     "metadata": {},
     "output_type": "execute_result"
    },
    {
     "data": {
      "image/png": "[encoded data removed]",
      "text/plain": [
       "<Figure size 432x288 with 1 Axes>"
      ]
     },
     "metadata": {
      "needs_background": "light"
     },
     "output_type": "display_data"
    }
   ],
   "source": [
    "\n",
    "# Another way to plot a histogram of ages is shown below\n",
    "credit['AGE'].hist(bins=10)"
   ]
  },
  {
   "cell_type": "code",
   "execution_count": 48,
   "metadata": {},
   "outputs": [],
   "source": [
    "# Create a function to define those who are children (less than 16)\n",
    "def male_female_child(passenger):\n",
    "    age, gender = passenger\n",
    "    \n",
    "    if age < 25:\n",
    "        return 'child'\n",
    "    else:\n",
    "        return gender"
   ]
  },
  {
   "cell_type": "code",
   "execution_count": 49,
   "metadata": {},
   "outputs": [],
   "source": [
    "credit['person'] = credit[['AGE', 'GENDER2']].apply(male_female_child, axis=1)"
   ]
  },
  {
   "cell_type": "code",
   "execution_count": 50,
   "metadata": {},
   "outputs": [
    {
     "data": {
      "text/html": [
       "<div>\n",
       "<style scoped>\n",
       "    .dataframe tbody tr th:only-of-type {\n",
       "        vertical-align: middle;\n",
       "    }\n",
       "\n",
       "    .dataframe tbody tr th {\n",
       "        vertical-align: top;\n",
       "    }\n",
       "\n",
       "    .dataframe thead th {\n",
       "        text-align: right;\n",
       "    }\n",
       "</style>\n",
       "<table border=\"1\" class=\"dataframe\">\n",
       "  <thead>\n",
       "    <tr style=\"text-align: right;\">\n",
       "      <th></th>\n",
       "      <th>LIMIT_BAL</th>\n",
       "      <th>GENDER</th>\n",
       "      <th>EDUCATION</th>\n",
       "      <th>MARRIAGE</th>\n",
       "      <th>AGE</th>\n",
       "      <th>PAY_0</th>\n",
       "      <th>PAY_2</th>\n",
       "      <th>PAY_3</th>\n",
       "      <th>PAY_4</th>\n",
       "      <th>PAY_5</th>\n",
       "      <th>...</th>\n",
       "      <th>PAY_AMT4</th>\n",
       "      <th>PAY_AMT5</th>\n",
       "      <th>PAY_AMT6</th>\n",
       "      <th>DEF_PAY</th>\n",
       "      <th>AGE_RANGE</th>\n",
       "      <th>GENDER2</th>\n",
       "      <th>MARRIAGE2</th>\n",
       "      <th>EDUCATION2</th>\n",
       "      <th>DEF_PAY 2</th>\n",
       "      <th>person</th>\n",
       "    </tr>\n",
       "  </thead>\n",
       "  <tbody>\n",
       "    <tr>\n",
       "      <th>0</th>\n",
       "      <td>20000</td>\n",
       "      <td>2</td>\n",
       "      <td>2</td>\n",
       "      <td>1</td>\n",
       "      <td>24</td>\n",
       "      <td>2</td>\n",
       "      <td>2</td>\n",
       "      <td>-1</td>\n",
       "      <td>-1</td>\n",
       "      <td>-2</td>\n",
       "      <td>...</td>\n",
       "      <td>0</td>\n",
       "      <td>0</td>\n",
       "      <td>0</td>\n",
       "      <td>1</td>\n",
       "      <td>20-29</td>\n",
       "      <td>Female</td>\n",
       "      <td>Married</td>\n",
       "      <td>University</td>\n",
       "      <td>Default</td>\n",
       "      <td>child</td>\n",
       "    </tr>\n",
       "    <tr>\n",
       "      <th>1</th>\n",
       "      <td>120000</td>\n",
       "      <td>2</td>\n",
       "      <td>2</td>\n",
       "      <td>2</td>\n",
       "      <td>26</td>\n",
       "      <td>-1</td>\n",
       "      <td>2</td>\n",
       "      <td>0</td>\n",
       "      <td>0</td>\n",
       "      <td>0</td>\n",
       "      <td>...</td>\n",
       "      <td>1000</td>\n",
       "      <td>0</td>\n",
       "      <td>2000</td>\n",
       "      <td>1</td>\n",
       "      <td>20-29</td>\n",
       "      <td>Female</td>\n",
       "      <td>Single</td>\n",
       "      <td>University</td>\n",
       "      <td>Default</td>\n",
       "      <td>Female</td>\n",
       "    </tr>\n",
       "    <tr>\n",
       "      <th>2</th>\n",
       "      <td>90000</td>\n",
       "      <td>2</td>\n",
       "      <td>2</td>\n",
       "      <td>2</td>\n",
       "      <td>34</td>\n",
       "      <td>0</td>\n",
       "      <td>0</td>\n",
       "      <td>0</td>\n",
       "      <td>0</td>\n",
       "      <td>0</td>\n",
       "      <td>...</td>\n",
       "      <td>1000</td>\n",
       "      <td>1000</td>\n",
       "      <td>5000</td>\n",
       "      <td>0</td>\n",
       "      <td>30-39</td>\n",
       "      <td>Female</td>\n",
       "      <td>Single</td>\n",
       "      <td>University</td>\n",
       "      <td>No Default</td>\n",
       "      <td>Female</td>\n",
       "    </tr>\n",
       "    <tr>\n",
       "      <th>3</th>\n",
       "      <td>50000</td>\n",
       "      <td>2</td>\n",
       "      <td>2</td>\n",
       "      <td>1</td>\n",
       "      <td>37</td>\n",
       "      <td>0</td>\n",
       "      <td>0</td>\n",
       "      <td>0</td>\n",
       "      <td>0</td>\n",
       "      <td>0</td>\n",
       "      <td>...</td>\n",
       "      <td>1100</td>\n",
       "      <td>1069</td>\n",
       "      <td>1000</td>\n",
       "      <td>0</td>\n",
       "      <td>30-39</td>\n",
       "      <td>Female</td>\n",
       "      <td>Married</td>\n",
       "      <td>University</td>\n",
       "      <td>No Default</td>\n",
       "      <td>Female</td>\n",
       "    </tr>\n",
       "    <tr>\n",
       "      <th>4</th>\n",
       "      <td>50000</td>\n",
       "      <td>1</td>\n",
       "      <td>2</td>\n",
       "      <td>1</td>\n",
       "      <td>57</td>\n",
       "      <td>-1</td>\n",
       "      <td>0</td>\n",
       "      <td>-1</td>\n",
       "      <td>0</td>\n",
       "      <td>0</td>\n",
       "      <td>...</td>\n",
       "      <td>9000</td>\n",
       "      <td>689</td>\n",
       "      <td>679</td>\n",
       "      <td>0</td>\n",
       "      <td>50-59</td>\n",
       "      <td>Male</td>\n",
       "      <td>Married</td>\n",
       "      <td>University</td>\n",
       "      <td>No Default</td>\n",
       "      <td>Male</td>\n",
       "    </tr>\n",
       "    <tr>\n",
       "      <th>5</th>\n",
       "      <td>50000</td>\n",
       "      <td>1</td>\n",
       "      <td>1</td>\n",
       "      <td>2</td>\n",
       "      <td>37</td>\n",
       "      <td>0</td>\n",
       "      <td>0</td>\n",
       "      <td>0</td>\n",
       "      <td>0</td>\n",
       "      <td>0</td>\n",
       "      <td>...</td>\n",
       "      <td>1000</td>\n",
       "      <td>1000</td>\n",
       "      <td>800</td>\n",
       "      <td>0</td>\n",
       "      <td>30-39</td>\n",
       "      <td>Male</td>\n",
       "      <td>Single</td>\n",
       "      <td>Graduate School</td>\n",
       "      <td>No Default</td>\n",
       "      <td>Male</td>\n",
       "    </tr>\n",
       "    <tr>\n",
       "      <th>6</th>\n",
       "      <td>500000</td>\n",
       "      <td>1</td>\n",
       "      <td>1</td>\n",
       "      <td>2</td>\n",
       "      <td>29</td>\n",
       "      <td>0</td>\n",
       "      <td>0</td>\n",
       "      <td>0</td>\n",
       "      <td>0</td>\n",
       "      <td>0</td>\n",
       "      <td>...</td>\n",
       "      <td>20239</td>\n",
       "      <td>13750</td>\n",
       "      <td>13770</td>\n",
       "      <td>0</td>\n",
       "      <td>20-29</td>\n",
       "      <td>Male</td>\n",
       "      <td>Single</td>\n",
       "      <td>Graduate School</td>\n",
       "      <td>No Default</td>\n",
       "      <td>Male</td>\n",
       "    </tr>\n",
       "    <tr>\n",
       "      <th>7</th>\n",
       "      <td>100000</td>\n",
       "      <td>2</td>\n",
       "      <td>2</td>\n",
       "      <td>2</td>\n",
       "      <td>23</td>\n",
       "      <td>0</td>\n",
       "      <td>-1</td>\n",
       "      <td>-1</td>\n",
       "      <td>0</td>\n",
       "      <td>0</td>\n",
       "      <td>...</td>\n",
       "      <td>581</td>\n",
       "      <td>1687</td>\n",
       "      <td>1542</td>\n",
       "      <td>0</td>\n",
       "      <td>20-29</td>\n",
       "      <td>Female</td>\n",
       "      <td>Single</td>\n",
       "      <td>University</td>\n",
       "      <td>No Default</td>\n",
       "      <td>child</td>\n",
       "    </tr>\n",
       "    <tr>\n",
       "      <th>8</th>\n",
       "      <td>140000</td>\n",
       "      <td>2</td>\n",
       "      <td>3</td>\n",
       "      <td>1</td>\n",
       "      <td>28</td>\n",
       "      <td>0</td>\n",
       "      <td>0</td>\n",
       "      <td>2</td>\n",
       "      <td>0</td>\n",
       "      <td>0</td>\n",
       "      <td>...</td>\n",
       "      <td>1000</td>\n",
       "      <td>1000</td>\n",
       "      <td>1000</td>\n",
       "      <td>0</td>\n",
       "      <td>20-29</td>\n",
       "      <td>Female</td>\n",
       "      <td>Married</td>\n",
       "      <td>High School</td>\n",
       "      <td>No Default</td>\n",
       "      <td>Female</td>\n",
       "    </tr>\n",
       "    <tr>\n",
       "      <th>9</th>\n",
       "      <td>20000</td>\n",
       "      <td>1</td>\n",
       "      <td>3</td>\n",
       "      <td>2</td>\n",
       "      <td>35</td>\n",
       "      <td>-2</td>\n",
       "      <td>-2</td>\n",
       "      <td>-2</td>\n",
       "      <td>-2</td>\n",
       "      <td>-1</td>\n",
       "      <td>...</td>\n",
       "      <td>13007</td>\n",
       "      <td>1122</td>\n",
       "      <td>0</td>\n",
       "      <td>0</td>\n",
       "      <td>30-39</td>\n",
       "      <td>Male</td>\n",
       "      <td>Single</td>\n",
       "      <td>High School</td>\n",
       "      <td>No Default</td>\n",
       "      <td>Male</td>\n",
       "    </tr>\n",
       "  </tbody>\n",
       "</table>\n",
       "<p>10 rows × 30 columns</p>\n",
       "</div>"
      ],
      "text/plain": [
       "   LIMIT_BAL  GENDER  EDUCATION  MARRIAGE  AGE  PAY_0  PAY_2  PAY_3  PAY_4  \\\n",
       "0      20000       2          2         1   24      2      2     -1     -1   \n",
       "1     120000       2          2         2   26     -1      2      0      0   \n",
       "2      90000       2          2         2   34      0      0      0      0   \n",
       "3      50000       2          2         1   37      0      0      0      0   \n",
       "4      50000       1          2         1   57     -1      0     -1      0   \n",
       "5      50000       1          1         2   37      0      0      0      0   \n",
       "6     500000       1          1         2   29      0      0      0      0   \n",
       "7     100000       2          2         2   23      0     -1     -1      0   \n",
       "8     140000       2          3         1   28      0      0      2      0   \n",
       "9      20000       1          3         2   35     -2     -2     -2     -2   \n",
       "\n",
       "   PAY_5  ...  PAY_AMT4  PAY_AMT5  PAY_AMT6  DEF_PAY  AGE_RANGE  GENDER2  \\\n",
       "0     -2  ...         0         0         0        1      20-29   Female   \n",
       "1      0  ...      1000         0      2000        1      20-29   Female   \n",
       "2      0  ...      1000      1000      5000        0      30-39   Female   \n",
       "3      0  ...      1100      1069      1000        0      30-39   Female   \n",
       "4      0  ...      9000       689       679        0      50-59     Male   \n",
       "5      0  ...      1000      1000       800        0      30-39     Male   \n",
       "6      0  ...     20239     13750     13770        0      20-29     Male   \n",
       "7      0  ...       581      1687      1542        0      20-29   Female   \n",
       "8      0  ...      1000      1000      1000        0      20-29   Female   \n",
       "9     -1  ...     13007      1122         0        0      30-39     Male   \n",
       "\n",
       "   MARRIAGE2       EDUCATION2   DEF_PAY 2  person  \n",
       "0    Married       University     Default   child  \n",
       "1     Single       University     Default  Female  \n",
       "2     Single       University  No Default  Female  \n",
       "3    Married       University  No Default  Female  \n",
       "4    Married       University  No Default    Male  \n",
       "5     Single  Graduate School  No Default    Male  \n",
       "6     Single  Graduate School  No Default    Male  \n",
       "7     Single       University  No Default   child  \n",
       "8    Married      High School  No Default  Female  \n",
       "9     Single      High School  No Default    Male  \n",
       "\n",
       "[10 rows x 30 columns]"
      ]
     },
     "execution_count": 50,
     "metadata": {},
     "output_type": "execute_result"
    }
   ],
   "source": [
    "# Lets have a look at the first 10 rows of the data frame\n",
    "credit[:10]"
   ]
  },
  {
   "cell_type": "code",
   "execution_count": 51,
   "metadata": {},
   "outputs": [
    {
     "data": {
      "text/plain": [
       "<seaborn.axisgrid.FacetGrid at 0x2944869ca88>"
      ]
     },
     "execution_count": 51,
     "metadata": {},
     "output_type": "execute_result"
    },
    {
     "data": {
      "image/png": "[encoded data removed]",
      "text/plain": [
       "<Figure size 792.625x360 with 1 Axes>"
      ]
     },
     "metadata": {
      "needs_background": "light"
     },
     "output_type": "display_data"
    }
   ],
   "source": [
    "# Lets do a factorplot of passengers splitted into sex, children and Education\n",
    "sns.factorplot('EDUCATION', data=credit, kind='count', hue='person', order=[1,2,3], \n",
    "               hue_order=['child','Female','Male'], aspect=2)"
   ]
  },
  {
   "cell_type": "code",
   "execution_count": 52,
   "metadata": {},
   "outputs": [
    {
     "data": {
      "text/plain": [
       "<seaborn.axisgrid.FacetGrid at 0x294489558c8>"
      ]
     },
     "execution_count": 52,
     "metadata": {},
     "output_type": "execute_result"
    },
    {
     "data": {
      "image/png": "[encoded data removed]",
      "text/plain": [
       "<Figure size 972.625x360 with 2 Axes>"
      ]
     },
     "metadata": {
      "needs_background": "light"
     },
     "output_type": "display_data"
    }
   ],
   "source": [
    "# Do the same as above, but split the clients by Sex\n",
    "sns.factorplot('EDUCATION', data=credit, kind='count', hue='person', col='GENDER', order=[1,2,3], \n",
    "               hue_order=['child','Female','Male'], aspect=1.25, size=5)\n"
   ]
  },
  {
   "cell_type": "code",
   "execution_count": 53,
   "metadata": {},
   "outputs": [
    {
     "data": {
      "text/plain": [
       "<seaborn.axisgrid.FacetGrid at 0x2944878d2c8>"
      ]
     },
     "execution_count": 53,
     "metadata": {},
     "output_type": "execute_result"
    },
    {
     "data": {
      "image/png": "[encoded data removed]",
      "text/plain": [
       "<Figure size 914.375x216 with 1 Axes>"
      ]
     },
     "metadata": {
      "needs_background": "light"
     },
     "output_type": "display_data"
    }
   ],
   "source": [
    "#kde plot, Distribution of Passengers' Ages\n",
    "#Grouped by Gender\n",
    "\n",
    "fig = sns.FacetGrid(credit, hue='GENDER', aspect=4)\n",
    "fig.map(sns.kdeplot, 'AGE', shade=True)\n",
    "oldest = credit['AGE'].max()\n",
    "fig.set(xlim=(0,oldest))\n",
    "fig.set(title='Distribution of Age Grouped by Gender')\n",
    "fig.add_legend()"
   ]
  },
  {
   "cell_type": "code",
   "execution_count": 54,
   "metadata": {},
   "outputs": [
    {
     "data": {
      "text/plain": [
       "<seaborn.axisgrid.FacetGrid at 0x29448c70e88>"
      ]
     },
     "execution_count": 54,
     "metadata": {},
     "output_type": "execute_result"
    },
    {
     "data": {
      "image/png": "[encoded data removed]",
      "text/plain": [
       "<Figure size 936.625x216 with 1 Axes>"
      ]
     },
     "metadata": {
      "needs_background": "light"
     },
     "output_type": "display_data"
    }
   ],
   "source": [
    "# create a visualization  with age\n",
    "fig = sns.FacetGrid(credit, hue='person', aspect=4)\n",
    "fig.map(sns.kdeplot, 'AGE', shade=True)\n",
    "oldest = credit['AGE'].max()\n",
    "fig.set(xlim=(0,oldest))\n",
    "fig.add_legend()"
   ]
  },
  {
   "cell_type": "code",
   "execution_count": 55,
   "metadata": {},
   "outputs": [
    {
     "data": {
      "text/plain": [
       "<seaborn.axisgrid.FacetGrid at 0x29448cfed88>"
      ]
     },
     "execution_count": 55,
     "metadata": {},
     "output_type": "execute_result"
    },
    {
     "data": {
      "image/png": "[encoded data removed]",
      "text/plain": [
       "<Figure size 983x216 with 1 Axes>"
      ]
     },
     "metadata": {
      "needs_background": "light"
     },
     "output_type": "display_data"
    }
   ],
   "source": [
    "# Create a visualization: Education and Age.\n",
    "fig = sns.FacetGrid(credit, hue='EDUCATION2', aspect=4)\n",
    "fig.map(sns.kdeplot, 'AGE', shade=True)\n",
    "oldest = credit['AGE'].max()\n",
    "fig.set(xlim=(0,oldest))\n",
    "fig.set(title='Distribution of Age Grouped by Education')\n",
    "fig.add_legend()"
   ]
  },
  {
   "cell_type": "code",
   "execution_count": 56,
   "metadata": {},
   "outputs": [
    {
     "data": {
      "text/plain": [
       "<seaborn.axisgrid.FacetGrid at 0x29448d3d1c8>"
      ]
     },
     "execution_count": 56,
     "metadata": {},
     "output_type": "execute_result"
    },
    {
     "data": {
      "image/png": "[encoded data removed]",
      "text/plain": [
       "<Figure size 1147.25x360 with 3 Axes>"
      ]
     },
     "metadata": {
      "needs_background": "light"
     },
     "output_type": "display_data"
    }
   ],
   "source": [
    "# Create a sex, education plot.\n",
    "fg=sns.factorplot('GENDER2', data=credit, kind='count', hue='EDUCATION', col='person', hue_order=range(1,4),\n",
    "                 palette='Blues')\n",
    "fg.set_xlabels('Status')"
   ]
  },
  {
   "cell_type": "code",
   "execution_count": 57,
   "metadata": {},
   "outputs": [
    {
     "data": {
      "text/plain": [
       "<seaborn.axisgrid.FacetGrid at 0x29448d6b688>"
      ]
     },
     "execution_count": 57,
     "metadata": {},
     "output_type": "execute_result"
    },
    {
     "data": {
      "image/png": "[encoded data removed]",
      "text/plain": [
       "<Figure size 432.625x360 with 1 Axes>"
      ]
     },
     "metadata": {
      "needs_background": "light"
     },
     "output_type": "display_data"
    }
   ],
   "source": [
    "# Education Factor\n",
    "\n",
    "# Survived vs. class Grouped by gender\n",
    "sns.factorplot('EDUCATION','AGE', hue='person', data=credit, order=range(1,4), \n",
    "               hue_order = ['child','Female','Male'])"
   ]
  },
  {
   "cell_type": "code",
   "execution_count": 58,
   "metadata": {},
   "outputs": [
    {
     "data": {
      "text/plain": [
       "<seaborn.axisgrid.FacetGrid at 0x2944af3ff88>"
      ]
     },
     "execution_count": 58,
     "metadata": {},
     "output_type": "execute_result"
    },
    {
     "data": {
      "image/png": "[encoded data removed]",
      "text/plain": [
       "<Figure size 360x360 with 1 Axes>"
      ]
     },
     "metadata": {
      "needs_background": "light"
     },
     "output_type": "display_data"
    }
   ],
   "source": [
    "# Age Factor\n",
    "\n",
    "\n",
    "# Linear plot of age vs. survived\n",
    "sns.lmplot('AGE', 'DEF_PAY', data=credit)"
   ]
  },
  {
   "cell_type": "code",
   "execution_count": 59,
   "metadata": {},
   "outputs": [
    {
     "data": {
      "text/plain": [
       "<seaborn.axisgrid.FacetGrid at 0x2944a2a4e48>"
      ]
     },
     "execution_count": 59,
     "metadata": {},
     "output_type": "execute_result"
    },
    {
     "data": {
      "image/png": "[encoded data removed]",
      "text/plain": [
       "<Figure size 432.625x360 with 1 Axes>"
      ]
     },
     "metadata": {
      "needs_background": "light"
     },
     "output_type": "display_data"
    }
   ],
   "source": [
    "# default payment next month vs. Age grouped by Sex\n",
    "sns.lmplot('AGE', 'DEF_PAY', data=credit, hue='GENDER2')"
   ]
  },
  {
   "cell_type": "code",
   "execution_count": 60,
   "metadata": {},
   "outputs": [
    {
     "data": {
      "text/plain": [
       "<seaborn.axisgrid.FacetGrid at 0x2944af3f388>"
      ]
     },
     "execution_count": 60,
     "metadata": {},
     "output_type": "execute_result"
    },
    {
     "data": {
      "image/png": "[encoded data removed]",
      "text/plain": [
       "<Figure size 427.25x360 with 1 Axes>"
      ]
     },
     "metadata": {
      "needs_background": "light"
     },
     "output_type": "display_data"
    }
   ],
   "source": [
    "# default payment next month vs. Age gruped by class\n",
    "sns.lmplot('AGE', 'DEF_PAY', hue='EDUCATION', data=credit, palette='winter', hue_order=range(1,4))"
   ]
  },
  {
   "cell_type": "code",
   "execution_count": 61,
   "metadata": {},
   "outputs": [
    {
     "data": {
      "text/plain": [
       "<seaborn.axisgrid.FacetGrid at 0x2944a9a0b88>"
      ]
     },
     "execution_count": 61,
     "metadata": {},
     "output_type": "execute_result"
    },
    {
     "data": {
      "image/png": "[encoded data removed]",
      "text/plain": [
       "<Figure size 421x360 with 1 Axes>"
      ]
     },
     "metadata": {
      "needs_background": "light"
     },
     "output_type": "display_data"
    }
   ],
   "source": [
    "#Create a generation bin by Marrriage\n",
    "generations = [10,20,40,60,80]\n",
    "sns.lmplot('AGE','DEF_PAY',hue='MARRIAGE',data=credit,x_bins=generations, hue_order=[1,2,3])"
   ]
  },
  {
   "cell_type": "code",
   "execution_count": 62,
   "metadata": {},
   "outputs": [
    {
     "data": {
      "text/plain": [
       "<seaborn.axisgrid.FacetGrid at 0x2944aa24108>"
      ]
     },
     "execution_count": 62,
     "metadata": {},
     "output_type": "execute_result"
    },
    {
     "data": {
      "image/png": "[encoded data removed]",
      "text/plain": [
       "<Figure size 360x360 with 1 Axes>"
      ]
     },
     "metadata": {
      "needs_background": "light"
     },
     "output_type": "display_data"
    }
   ],
   "source": [
    "# Marriage Status Factor\n",
    "sns.factorplot('GENDER2', 'MARRIAGE', data=credit, palette='winter')"
   ]
  },
  {
   "cell_type": "code",
   "execution_count": 63,
   "metadata": {},
   "outputs": [
    {
     "data": {
      "text/plain": [
       "<seaborn.axisgrid.FacetGrid at 0x2944a35d088>"
      ]
     },
     "execution_count": 63,
     "metadata": {},
     "output_type": "execute_result"
    },
    {
     "data": {
      "image/png": "[encoded data removed]",
      "text/plain": [
       "<Figure size 1152.62x360 with 3 Axes>"
      ]
     },
     "metadata": {
      "needs_background": "light"
     },
     "output_type": "display_data"
    }
   ],
   "source": [
    "# Lets split it by education now!\n",
    "sns.factorplot('GENDER', 'MARRIAGE', data=credit, palette='summer', hue='person', \n",
    "               hue_order=['child', 'Female', 'Male'], col='EDUCATION', col_order=[1,2,3])"
   ]
  }
 ],
 "metadata": {
  "kernelspec": {
   "display_name": "Python 3",
   "language": "python",
   "name": "python3"
  },
  "language_info": {
   "codemirror_mode": {
    "name": "ipython",
    "version": 3
   },
   "file_extension": ".py",
   "mimetype": "text/x-python",
   "name": "python",
   "nbconvert_exporter": "python",
   "pygments_lexer": "ipython3",
   "version": "3.7.6"
  }
 },
 "nbformat": 4,
 "nbformat_minor": 2
}
