{
 "cells": [
  {
   "cell_type": "code",
   "execution_count": 1,
   "metadata": {},
   "outputs": [],
   "source": [
    "import numpy as np\n",
    "import pandas as pd\n",
    "import matplotlib.pyplot as plt\n",
    "\n",
    "#estimators\n",
    "from sklearn.ensemble import RandomForestClassifier\n",
    "from sklearn.svm import SVC\n",
    "from sklearn.linear_model import LogisticRegression\n",
    "\n",
    "#model metrics\n",
    "from sklearn.metrics import accuracy_score\n",
    "from sklearn.metrics import confusion_matrix\n",
    "from sklearn.model_selection import cross_val_score\n",
    "\n",
    "#cross validation\n",
    "from sklearn.model_selection import train_test_split"
   ]
  },
  {
   "cell_type": "code",
   "execution_count": 2,
   "metadata": {},
   "outputs": [],
   "source": [
    "#Reading data file\n",
    "rawData = pd.read_csv('C:\\\\Users\\\\priscilla.mora\\\\Desktop\\\\Big Data XTOL\\\\5) Data Science with Python\\\\3) Build and Evaluate Models\\\\default_credit_card_clients_fixed.csv')"
   ]
  },
  {
   "cell_type": "code",
   "execution_count": 3,
   "metadata": {},
   "outputs": [],
   "source": [
    "#Remove the ID column\n",
    "rawData.drop(rawData.columns[0], axis='columns', inplace=True)"
   ]
  },
  {
   "cell_type": "code",
   "execution_count": 4,
   "metadata": {},
   "outputs": [],
   "source": [
    "#Remove outliers\n",
    "rawData = rawData.drop(rawData[rawData.LIMIT_BAL >= 500000].index) #It used to be 1,000,000"
   ]
  },
  {
   "cell_type": "code",
   "execution_count": 5,
   "metadata": {},
   "outputs": [],
   "source": [
    "#Create new columns for age range\n",
    "bins = [20, 30, 40, 50, 60, 70, 80]  \n",
    "labels = ['20', '30', '40', '50', '60', '70']\n",
    "#labels = ['20-29', '30-39', '40-49', '50-59', '60-69', '70+']\n",
    "rawData['agerange'] = pd.cut(rawData.AGE, bins, labels = labels,include_lowest = True)"
   ]
  },
  {
   "cell_type": "code",
   "execution_count": 6,
   "metadata": {},
   "outputs": [],
   "source": [
    "#Setting variables to categorical\n",
    "rawData['GENDER'] = rawData['GENDER'].astype('category')\n",
    "rawData['EDUCATION'] = rawData['EDUCATION'].astype('category')\n",
    "rawData['MARRIAGE'] = rawData['MARRIAGE'].astype('category')\n",
    "rawData['default payment next month'] = rawData['default payment next month'].astype('category')"
   ]
  },
  {
   "cell_type": "code",
   "execution_count": 7,
   "metadata": {},
   "outputs": [
    {
     "name": "stdout",
     "output_type": "stream",
     "text": [
      "<class 'pandas.core.frame.DataFrame'>\n",
      "Int64Index: 29072 entries, 0 to 29999\n",
      "Data columns (total 25 columns):\n",
      " #   Column                      Non-Null Count  Dtype   \n",
      "---  ------                      --------------  -----   \n",
      " 0   LIMIT_BAL                   29072 non-null  int64   \n",
      " 1   GENDER                      29072 non-null  category\n",
      " 2   EDUCATION                   29072 non-null  category\n",
      " 3   MARRIAGE                    29072 non-null  category\n",
      " 4   AGE                         29072 non-null  int64   \n",
      " 5   PAY_0                       29072 non-null  int64   \n",
      " 6   PAY_2                       29072 non-null  int64   \n",
      " 7   PAY_3                       29072 non-null  int64   \n",
      " 8   PAY_4                       29072 non-null  int64   \n",
      " 9   PAY_5                       29072 non-null  int64   \n",
      " 10  PAY_6                       29072 non-null  int64   \n",
      " 11  BILL_AMT1                   29072 non-null  int64   \n",
      " 12  BILL_AMT2                   29072 non-null  int64   \n",
      " 13  BILL_AMT3                   29072 non-null  int64   \n",
      " 14  BILL_AMT4                   29072 non-null  int64   \n",
      " 15  BILL_AMT5                   29072 non-null  int64   \n",
      " 16  BILL_AMT6                   29072 non-null  int64   \n",
      " 17  PAY_AMT1                    29072 non-null  int64   \n",
      " 18  PAY_AMT2                    29072 non-null  int64   \n",
      " 19  PAY_AMT3                    29072 non-null  int64   \n",
      " 20  PAY_AMT4                    29072 non-null  int64   \n",
      " 21  PAY_AMT5                    29072 non-null  int64   \n",
      " 22  PAY_AMT6                    29072 non-null  int64   \n",
      " 23  default payment next month  29072 non-null  category\n",
      " 24  agerange                    29072 non-null  category\n",
      "dtypes: category(5), int64(20)\n",
      "memory usage: 4.8 MB\n"
     ]
    }
   ],
   "source": [
    "rawData.info()"
   ]
  },
  {
   "cell_type": "code",
   "execution_count": 8,
   "metadata": {},
   "outputs": [],
   "source": [
    "#Grouping delay payments into one category\n",
    "rawData['PAY_0'].replace({1: 9, 2: 9, 3: 9, 4: 9, 5: 9, 6: 9, 7: 9, 8: 9, 9: 9}, inplace=True)\n",
    "rawData['PAY_2'].replace({1: 9, 2: 9, 3: 9, 4: 9, 5: 9, 6: 9, 7: 9, 8: 9, 9: 9}, inplace=True)\n",
    "rawData['PAY_3'].replace({1: 9, 2: 9, 3: 9, 4: 9, 5: 9, 6: 9, 7: 9, 8: 9, 9: 9}, inplace=True)\n",
    "rawData['PAY_4'].replace({1: 9, 2: 9, 3: 9, 4: 9, 5: 9, 6: 9, 7: 9, 8: 9, 9: 9}, inplace=True)\n",
    "rawData['PAY_5'].replace({1: 9, 2: 9, 3: 9, 4: 9, 5: 9, 6: 9, 7: 9, 8: 9, 9: 9}, inplace=True)\n",
    "rawData['PAY_6'].replace({1: 9, 2: 9, 3: 9, 4: 9, 5: 9, 6: 9, 7: 9, 8: 9, 9: 9}, inplace=True)"
   ]
  },
  {
   "cell_type": "code",
   "execution_count": 9,
   "metadata": {},
   "outputs": [],
   "source": [
    "#Grouping others education category into one\n",
    "rawData['EDUCATION'].replace({0: 0, 4: 0, 5: 0, 6: 0}, inplace=True)"
   ]
  },
  {
   "cell_type": "code",
   "execution_count": 10,
   "metadata": {},
   "outputs": [
    {
     "name": "stdout",
     "output_type": "stream",
     "text": [
      "   EDUCATION GENDER agerange MARRIAGE  LIMIT_BAL  PAY_0  PAY_2  PAY_3  PAY_4  \\\n",
      "0          2      2       20        1      20000      9      9     -1     -1   \n",
      "1          2      2       20        2     120000     -1      9      0      0   \n",
      "2          2      2       30        2      90000      0      0      0      0   \n",
      "3          2      2       30        1      50000      0      0      0      0   \n",
      "4          2      1       50        1      50000     -1      0     -1      0   \n",
      "\n",
      "   PAY_5  PAY_6  PAY_AMT1  PAY_AMT2  PAY_AMT3  PAY_AMT4  PAY_AMT5  PAY_AMT6  \n",
      "0     -2     -2         0       689         0         0         0         0  \n",
      "1      0      9         0      1000      1000      1000         0      2000  \n",
      "2      0      0      1518      1500      1000      1000      1000      5000  \n",
      "3      0      0      2000      2019      1200      1100      1069      1000  \n",
      "4      0      0      2000     36681     10000      9000       689       679  \n"
     ]
    }
   ],
   "source": [
    "#features\n",
    "features = rawData[['EDUCATION', 'GENDER', 'agerange', 'MARRIAGE', 'LIMIT_BAL', 'PAY_0', 'PAY_2', 'PAY_3', 'PAY_4', 'PAY_5', 'PAY_6', 'PAY_AMT1', 'PAY_AMT2', 'PAY_AMT3', 'PAY_AMT4', 'PAY_AMT5', 'PAY_AMT6']]\n",
    "print(features.head())"
   ]
  },
  {
   "cell_type": "code",
   "execution_count": 11,
   "metadata": {},
   "outputs": [],
   "source": [
    "#dependent variable\n",
    "depVar = rawData['default payment next month']"
   ]
  },
  {
   "cell_type": "code",
   "execution_count": 12,
   "metadata": {},
   "outputs": [
    {
     "data": {
      "image/png": "[encoded data removed]",
      "text/plain": [
       "<Figure size 432x288 with 1 Axes>"
      ]
     },
     "metadata": {
      "needs_background": "light"
     },
     "output_type": "display_data"
    }
   ],
   "source": [
    "#Credit Value Histogram\n",
    "plt.hist(rawData['LIMIT_BAL'], 10, facecolor='blue', alpha=0.5)\n",
    "plt.show()"
   ]
  },
  {
   "cell_type": "code",
   "execution_count": 13,
   "metadata": {},
   "outputs": [
    {
     "name": "stdout",
     "output_type": "stream",
     "text": [
      "(23257, 17)\n"
     ]
    }
   ],
   "source": [
    "X_train, X_test, y_train, y_test = train_test_split(features, depVar, train_size=0.8, random_state=0)\n",
    "print(X_train.shape) "
   ]
  },
  {
   "cell_type": "code",
   "execution_count": 14,
   "metadata": {},
   "outputs": [
    {
     "name": "stdout",
     "output_type": "stream",
     "text": [
      "(5815, 17)\n"
     ]
    }
   ],
   "source": [
    "print(X_test.shape)"
   ]
  },
  {
   "cell_type": "code",
   "execution_count": 15,
   "metadata": {},
   "outputs": [],
   "source": [
    "#Models\n",
    "modelSVR = SVC(kernel='sigmoid',gamma = 'auto', random_state=0)\n",
    "modelRF = RandomForestClassifier(n_estimators=250, random_state=0, max_features=2)\n",
    "modelLR = LogisticRegression(solver='liblinear', random_state=0)"
   ]
  },
  {
   "cell_type": "code",
   "execution_count": 16,
   "metadata": {},
   "outputs": [
    {
     "name": "stdout",
     "output_type": "stream",
     "text": [
      "===== Cross Validation Score ======\n",
      "[0.77386071 0.77386071 0.77402709 0.77381208 0.77381208]\n",
      "===== Score ======\n",
      "0.7738745323988476\n"
     ]
    }
   ],
   "source": [
    "#Support Vector Classifier\n",
    "modelSVR.fit(X_train,y_train)\n",
    "print(\"===== Cross Validation Score ======\")\n",
    "print(cross_val_score(modelSVR, X_train, y_train))\n",
    "\n",
    "print(\"===== Score ======\")\n",
    "print(modelSVR.score(X_train,y_train))"
   ]
  },
  {
   "cell_type": "code",
   "execution_count": 17,
   "metadata": {},
   "outputs": [
    {
     "name": "stdout",
     "output_type": "stream",
     "text": [
      "===== Accuracy ======\n",
      "0.7810834049871023\n",
      "===== Confusion Matrix =====\n",
      " [[4542    0]\n",
      " [1273    0]]\n"
     ]
    }
   ],
   "source": [
    "predictionsSVR = modelSVR.predict(X_test)\n",
    "\n",
    "print(\"===== Accuracy ======\")\n",
    "print(accuracy_score(y_test, predictionsSVR))\n",
    "\n",
    "cm = confusion_matrix(y_test, predictionsSVR) \n",
    "print (\"===== Confusion Matrix =====\\n\", cm)"
   ]
  },
  {
   "cell_type": "code",
   "execution_count": 18,
   "metadata": {},
   "outputs": [],
   "source": [
    "objects = ('Yes', 'No')\n",
    "y_pos = np.arange(len(objects))"
   ]
  },
  {
   "cell_type": "code",
   "execution_count": 19,
   "metadata": {},
   "outputs": [
    {
     "data": {
      "image/png": "[encoded data removed]",
      "text/plain": [
       "<Figure size 432x288 with 1 Axes>"
      ]
     },
     "metadata": {
      "needs_background": "light"
     },
     "output_type": "display_data"
    }
   ],
   "source": [
    "values = [(predictionsSVR ==1).sum(), (predictionsSVR ==0).sum()]\n",
    "plt.bar(y_pos, values, align='center', alpha=0.5)\n",
    "plt.xticks(y_pos, objects)\n",
    "plt.ylabel('Count')\n",
    "plt.title('Default payment next month')\n",
    "plt.show()"
   ]
  },
  {
   "cell_type": "code",
   "execution_count": 20,
   "metadata": {},
   "outputs": [
    {
     "name": "stdout",
     "output_type": "stream",
     "text": [
      "===== Cross Validation Score ======\n",
      "[0.80395529 0.81255374 0.80971834 0.79767792 0.80219308]\n",
      "===== Score ======\n",
      "0.9962591907812701\n"
     ]
    }
   ],
   "source": [
    "#Random Forest\n",
    "modelRF.fit(X_train,y_train)\n",
    "print(\"===== Cross Validation Score ======\")\n",
    "print(cross_val_score(modelRF, X_train, y_train))\n",
    "\n",
    "print(\"===== Score ======\")\n",
    "print(modelRF.score(X_train,y_train))"
   ]
  },
  {
   "cell_type": "code",
   "execution_count": 21,
   "metadata": {},
   "outputs": [
    {
     "name": "stdout",
     "output_type": "stream",
     "text": [
      "===== Accuracy ======\n",
      "0.8067067927773001\n",
      "===== Confusion Matrix =====\n",
      " [[4243  299]\n",
      " [ 825  448]]\n"
     ]
    }
   ],
   "source": [
    "predictionsRF = modelRF.predict(X_test)\n",
    "\n",
    "print(\"===== Accuracy ======\")\n",
    "print(accuracy_score(y_test, predictionsRF))\n",
    "\n",
    "cmRF = confusion_matrix(y_test, predictionsRF) \n",
    "print (\"===== Confusion Matrix =====\\n\", cmRF)"
   ]
  },
  {
   "cell_type": "code",
   "execution_count": 22,
   "metadata": {},
   "outputs": [
    {
     "data": {
      "image/png": "[encoded data removed]",
      "text/plain": [
       "<Figure size 432x288 with 1 Axes>"
      ]
     },
     "metadata": {
      "needs_background": "light"
     },
     "output_type": "display_data"
    }
   ],
   "source": [
    "valuesRF = [(predictionsRF ==1).sum(), (predictionsRF ==0).sum()]\n",
    "plt.bar(y_pos, valuesRF, align='center', alpha=0.5)\n",
    "plt.xticks(y_pos, objects)\n",
    "plt.ylabel('Count')\n",
    "plt.title('Default payment next month')\n",
    "plt.show()"
   ]
  },
  {
   "cell_type": "code",
   "execution_count": 23,
   "metadata": {},
   "outputs": [
    {
     "name": "stdout",
     "output_type": "stream",
     "text": [
      "[0.7766552  0.79858126 0.7742421  0.78993765 0.78133735]\n",
      "0.801006148686417\n"
     ]
    }
   ],
   "source": [
    "#Logistic Regression\n",
    "modelLR.fit(X_train,y_train)\n",
    "print(cross_val_score(modelLR, X_train, y_train))\n",
    "\n",
    "print(modelLR.score(X_train,y_train))"
   ]
  },
  {
   "cell_type": "code",
   "execution_count": 24,
   "metadata": {},
   "outputs": [
    {
     "name": "stdout",
     "output_type": "stream",
     "text": [
      "===== Accuracy ======\n",
      "0.8010318142734307\n",
      "===== Confusion Matrix =====\n",
      " [[4311  231]\n",
      " [ 926  347]]\n"
     ]
    }
   ],
   "source": [
    "predictionsLR = modelLR.predict(X_test)\n",
    "print(\"===== Accuracy ======\")\n",
    "print(accuracy_score(y_test, predictionsLR))\n",
    "\n",
    "cmLR = confusion_matrix(y_test, predictionsLR) \n",
    "print (\"===== Confusion Matrix =====\\n\", cmLR)\n"
   ]
  },
  {
   "cell_type": "code",
   "execution_count": 25,
   "metadata": {},
   "outputs": [
    {
     "data": {
      "image/png": "[encoded data removed]",
      "text/plain": [
       "<Figure size 432x288 with 1 Axes>"
      ]
     },
     "metadata": {
      "needs_background": "light"
     },
     "output_type": "display_data"
    }
   ],
   "source": [
    "valuesLR = [(predictionsLR ==1).sum(), (predictionsLR ==0).sum()]\n",
    "plt.bar(y_pos, valuesLR, align='center', alpha=0.5)\n",
    "plt.xticks(y_pos, objects)\n",
    "plt.ylabel('Count')\n",
    "plt.title('Default payment next month')\n",
    "plt.show()"
   ]
  }
 ],
 "metadata": {
  "kernelspec": {
   "display_name": "Python 3",
   "language": "python",
   "name": "python3"
  },
  "language_info": {
   "codemirror_mode": {
    "name": "ipython",
    "version": 3
   },
   "file_extension": ".py",
   "mimetype": "text/x-python",
   "name": "python",
   "nbconvert_exporter": "python",
   "pygments_lexer": "ipython3",
   "version": "3.7.6"
  }
 },
 "nbformat": 4,
 "nbformat_minor": 4
}
